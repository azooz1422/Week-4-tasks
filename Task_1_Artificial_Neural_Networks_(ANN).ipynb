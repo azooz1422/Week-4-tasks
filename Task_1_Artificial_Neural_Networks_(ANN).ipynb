{
  "cells": [
    {
      "cell_type": "markdown",
      "id": "cda1ba95",
      "metadata": {
        "id": "cda1ba95"
      },
      "source": [
        "# Exam on Artificial Neural Networks (ANN)\n",
        "\n",
        "Welcome the Artificial Neural Networks (ANN) practical exam. In this exam, you will work on a classification task to predict the outcome of incidents involving buses. You are provided with a dataset that records breakdowns and delays in bus operations. Your task is to build, train, and evaluate an ANN model.\n",
        "\n",
        "---\n",
        "\n",
        "## Dataset Overview\n",
        "\n",
        "### **Dataset:**\n",
        "* Just run the command under the `Load Data` section to get the data downloaded and unzipped or you can access it [here](https://drive.google.com/file/d/1Flvj3qDkV2rPw7GGi5zOR-WGJgEBtRk-/view?usp=sharing)\n",
        "\n",
        "### **Dataset Name:** Bus Breakdown and Delays\n",
        "\n",
        "### **Description:**  \n",
        "The dataset contains records of incidents involving buses that were either running late or experienced a breakdown. Your task is to predict whether the bus was delayed or had a breakdown based on the features provided.\n",
        "\n",
        "### **Features:**\n",
        "The dataset contains the following columns:\n",
        "\n",
        "- `School_Year`\n",
        "- `Busbreakdown_ID`\n",
        "- `Run_Type`\n",
        "- `Bus_No`\n",
        "- `Route_Number`\n",
        "- `Reason`\n",
        "- `Schools_Serviced`\n",
        "- `Occurred_On`\n",
        "- `Created_On`\n",
        "- `Boro`\n",
        "- `Bus_Company_Name`\n",
        "- `How_Long_Delayed`\n",
        "- `Number_Of_Students_On_The_Bus`\n",
        "- `Has_Contractor_Notified_Schools`\n",
        "- `Has_Contractor_Notified_Parents`\n",
        "- `Have_You_Alerted_OPT`\n",
        "- `Informed_On`\n",
        "- `Incident_Number`\n",
        "- `Last_Updated_On`\n",
        "- `Breakdown_or_Running_Late` (Target Column)\n",
        "- `School_Age_or_PreK`"
      ]
    },
    {
      "cell_type": "markdown",
      "id": "4c2b014b",
      "metadata": {
        "id": "4c2b014b"
      },
      "source": [
        "## Load Data"
      ]
    },
    {
      "cell_type": "code",
      "execution_count": 245,
      "id": "98ad02f5",
      "metadata": {
        "colab": {
          "base_uri": "https://localhost:8080/"
        },
        "id": "98ad02f5",
        "outputId": "e8d3668f-84c7-4ada-9c92-0d9efb6484c6"
      },
      "outputs": [
        {
          "output_type": "stream",
          "name": "stdout",
          "text": [
            "Requirement already satisfied: gdown in /usr/local/lib/python3.10/dist-packages (5.1.0)\n",
            "Requirement already satisfied: beautifulsoup4 in /usr/local/lib/python3.10/dist-packages (from gdown) (4.12.3)\n",
            "Requirement already satisfied: filelock in /usr/local/lib/python3.10/dist-packages (from gdown) (3.15.4)\n",
            "Requirement already satisfied: requests[socks] in /usr/local/lib/python3.10/dist-packages (from gdown) (2.32.3)\n",
            "Requirement already satisfied: tqdm in /usr/local/lib/python3.10/dist-packages (from gdown) (4.66.5)\n",
            "Requirement already satisfied: soupsieve>1.2 in /usr/local/lib/python3.10/dist-packages (from beautifulsoup4->gdown) (2.5)\n",
            "Requirement already satisfied: charset-normalizer<4,>=2 in /usr/local/lib/python3.10/dist-packages (from requests[socks]->gdown) (3.3.2)\n",
            "Requirement already satisfied: idna<4,>=2.5 in /usr/local/lib/python3.10/dist-packages (from requests[socks]->gdown) (3.7)\n",
            "Requirement already satisfied: urllib3<3,>=1.21.1 in /usr/local/lib/python3.10/dist-packages (from requests[socks]->gdown) (2.0.7)\n",
            "Requirement already satisfied: certifi>=2017.4.17 in /usr/local/lib/python3.10/dist-packages (from requests[socks]->gdown) (2024.7.4)\n",
            "Requirement already satisfied: PySocks!=1.5.7,>=1.5.6 in /usr/local/lib/python3.10/dist-packages (from requests[socks]->gdown) (1.7.1)\n",
            "/usr/local/lib/python3.10/dist-packages/gdown/__main__.py:132: FutureWarning: Option `--id` was deprecated in version 4.3.1 and will be removed in 5.0. You don't need to pass it anymore to use a file ID.\n",
            "  warnings.warn(\n",
            "Failed to retrieve file url:\n",
            "\n",
            "\tToo many users have viewed or downloaded this file recently. Please\n",
            "\ttry accessing the file again later. If the file you are trying to\n",
            "\taccess is particularly large or is shared with many people, it may\n",
            "\ttake up to 24 hours to be able to view or download the file. If you\n",
            "\tstill can't access a file after 24 hours, contact your domain\n",
            "\tadministrator.\n",
            "\n",
            "You may still be able to access the file from the browser:\n",
            "\n",
            "\thttps://drive.google.com/uc?id=1Flvj3qDkV2rPw7GGi5zOR-WGJgEBtRk-\n",
            "\n",
            "but Gdown can't. Please check connections and permissions.\n"
          ]
        }
      ],
      "source": [
        "#https://drive.google.com/file/d/1Flvj3qDkV2rPw7GGi5zOR-WGJgEBtRk-/view?usp=sharing\n",
        "!pip install gdown\n",
        "!gdown --id 1Flvj3qDkV2rPw7GGi5zOR-WGJgEBtRk-"
      ]
    },
    {
      "cell_type": "markdown",
      "id": "3e39620c",
      "metadata": {
        "id": "3e39620c"
      },
      "source": [
        "## Importing Libraries"
      ]
    },
    {
      "cell_type": "code",
      "execution_count": 246,
      "id": "62381953",
      "metadata": {
        "id": "62381953"
      },
      "outputs": [],
      "source": [
        "import pandas as pd\n",
        "import numpy as np\n",
        "from sklearn.model_selection import train_test_split\n",
        "from tensorflow.keras.models import Sequential\n",
        "from tensorflow.keras.layers import Dense\n",
        "import tensorflow as tf\n",
        "from tensorflow import keras\n",
        "\n",
        "from tensorflow.keras.optimizers import Adam\n",
        "from sklearn.preprocessing import OneHotEncoder, LabelEncoder\n",
        "import matplotlib.pyplot as plt\n",
        "import seaborn as sns\n",
        "from sklearn.datasets import load_iris\n",
        "from sklearn.preprocessing import LabelEncoder\n",
        "from imblearn.over_sampling import SMOTE\n",
        "from sklearn.preprocessing import StandardScaler\n",
        "from sklearn.metrics import classification_report, confusion_matrix\n",
        "\n",
        "from keras.layers import Dropout\n",
        "from imblearn.over_sampling import SMOTE\n",
        "from sklearn.preprocessing import StandardScaler\n",
        "\n"
      ]
    },
    {
      "cell_type": "markdown",
      "id": "71ccd4e2",
      "metadata": {
        "id": "71ccd4e2"
      },
      "source": [
        "## Exploratory Data Analysis (EDA)\n",
        "This could include:\n",
        "* **Inspect the dataset**\n",
        "\n",
        "* **Dataset structure**\n",
        "\n",
        "* **Summary statistics**\n",
        "\n",
        "* **Check for missing values**\n",
        "\n",
        "* **Distribution of features**\n",
        "\n",
        "* **Categorical feature analysis**\n",
        "\n",
        "* **Correlation matrix**\n",
        "\n",
        "* **Outlier detection**\n",
        "\n",
        "And add more as needed!"
      ]
    },
    {
      "cell_type": "code",
      "execution_count": 247,
      "id": "0b800b0c",
      "metadata": {
        "id": "0b800b0c"
      },
      "outputs": [],
      "source": [
        "df=pd.read_csv('/content/Bus_Breakdown_and_Delays.csv')"
      ]
    },
    {
      "cell_type": "markdown",
      "source": [],
      "metadata": {
        "id": "hKUWCWyKgy-_"
      },
      "id": "hKUWCWyKgy-_"
    },
    {
      "cell_type": "code",
      "source": [
        "df.head()"
      ],
      "metadata": {
        "colab": {
          "base_uri": "https://localhost:8080/",
          "height": 429
        },
        "id": "JTYousEwcMZT",
        "outputId": "597c8fbe-323a-4660-d1c2-95ec04688ad2"
      },
      "id": "JTYousEwcMZT",
      "execution_count": 248,
      "outputs": [
        {
          "output_type": "execute_result",
          "data": {
            "text/plain": [
              "  School_Year  Busbreakdown_ID  Run_Type Bus_No Route_Number         Reason  \\\n",
              "0   2015-2016          1224901  Pre-K/EI    811            1          Other   \n",
              "1   2015-2016          1225098  Pre-K/EI   9302            1  Heavy Traffic   \n",
              "2   2015-2016          1215800  Pre-K/EI    358            2  Heavy Traffic   \n",
              "3   2015-2016          1215511  Pre-K/EI    331            2          Other   \n",
              "4   2015-2016          1215828  Pre-K/EI    332            2          Other   \n",
              "\n",
              "  Schools_Serviced             Occurred_On              Created_On   Boro  \\\n",
              "0             C353  10/26/2015 08:30:00 AM  10/26/2015 08:40:00 AM  Bronx   \n",
              "1             C814  10/27/2015 07:10:00 AM  10/27/2015 07:11:00 AM  Bronx   \n",
              "2             C195  09/18/2015 07:36:00 AM  09/18/2015 07:38:00 AM  Bronx   \n",
              "3             C178  09/17/2015 08:08:00 AM  09/17/2015 08:12:00 AM  Bronx   \n",
              "4             S176  09/18/2015 07:39:00 AM  09/18/2015 07:45:00 AM  Bronx   \n",
              "\n",
              "   ... How_Long_Delayed Number_Of_Students_On_The_Bus  \\\n",
              "0  ...        10MINUTES                             5   \n",
              "1  ...       25 MINUTES                             3   \n",
              "2  ...       15 MINUTES                            12   \n",
              "3  ...       10 minutes                            11   \n",
              "4  ...        10MINUTES                            12   \n",
              "\n",
              "   Has_Contractor_Notified_Schools Has_Contractor_Notified_Parents  \\\n",
              "0                              Yes                             Yes   \n",
              "1                              Yes                             Yes   \n",
              "2                              Yes                             Yes   \n",
              "3                              Yes                             Yes   \n",
              "4                              Yes                             Yes   \n",
              "\n",
              "  Have_You_Alerted_OPT             Informed_On Incident_Number  \\\n",
              "0                   No  10/26/2015 08:40:00 AM             NaN   \n",
              "1                   No  10/27/2015 07:11:00 AM             NaN   \n",
              "2                  Yes  09/18/2015 07:38:00 AM             NaN   \n",
              "3                  Yes  09/17/2015 08:12:00 AM             NaN   \n",
              "4                   No  09/18/2015 07:45:00 AM             NaN   \n",
              "\n",
              "          Last_Updated_On Breakdown_or_Running_Late School_Age_or_PreK  \n",
              "0  10/26/2015 08:40:39 AM              Running Late              Pre-K  \n",
              "1  10/27/2015 07:11:22 AM              Running Late              Pre-K  \n",
              "2  09/18/2015 07:38:44 AM              Running Late              Pre-K  \n",
              "3  09/17/2015 08:12:08 AM              Running Late              Pre-K  \n",
              "4  09/18/2015 07:56:40 AM              Running Late              Pre-K  \n",
              "\n",
              "[5 rows x 21 columns]"
            ],
            "text/html": [
              "\n",
              "  <div id=\"df-189920af-7225-4601-8253-f28130c96e33\" class=\"colab-df-container\">\n",
              "    <div>\n",
              "<style scoped>\n",
              "    .dataframe tbody tr th:only-of-type {\n",
              "        vertical-align: middle;\n",
              "    }\n",
              "\n",
              "    .dataframe tbody tr th {\n",
              "        vertical-align: top;\n",
              "    }\n",
              "\n",
              "    .dataframe thead th {\n",
              "        text-align: right;\n",
              "    }\n",
              "</style>\n",
              "<table border=\"1\" class=\"dataframe\">\n",
              "  <thead>\n",
              "    <tr style=\"text-align: right;\">\n",
              "      <th></th>\n",
              "      <th>School_Year</th>\n",
              "      <th>Busbreakdown_ID</th>\n",
              "      <th>Run_Type</th>\n",
              "      <th>Bus_No</th>\n",
              "      <th>Route_Number</th>\n",
              "      <th>Reason</th>\n",
              "      <th>Schools_Serviced</th>\n",
              "      <th>Occurred_On</th>\n",
              "      <th>Created_On</th>\n",
              "      <th>Boro</th>\n",
              "      <th>...</th>\n",
              "      <th>How_Long_Delayed</th>\n",
              "      <th>Number_Of_Students_On_The_Bus</th>\n",
              "      <th>Has_Contractor_Notified_Schools</th>\n",
              "      <th>Has_Contractor_Notified_Parents</th>\n",
              "      <th>Have_You_Alerted_OPT</th>\n",
              "      <th>Informed_On</th>\n",
              "      <th>Incident_Number</th>\n",
              "      <th>Last_Updated_On</th>\n",
              "      <th>Breakdown_or_Running_Late</th>\n",
              "      <th>School_Age_or_PreK</th>\n",
              "    </tr>\n",
              "  </thead>\n",
              "  <tbody>\n",
              "    <tr>\n",
              "      <th>0</th>\n",
              "      <td>2015-2016</td>\n",
              "      <td>1224901</td>\n",
              "      <td>Pre-K/EI</td>\n",
              "      <td>811</td>\n",
              "      <td>1</td>\n",
              "      <td>Other</td>\n",
              "      <td>C353</td>\n",
              "      <td>10/26/2015 08:30:00 AM</td>\n",
              "      <td>10/26/2015 08:40:00 AM</td>\n",
              "      <td>Bronx</td>\n",
              "      <td>...</td>\n",
              "      <td>10MINUTES</td>\n",
              "      <td>5</td>\n",
              "      <td>Yes</td>\n",
              "      <td>Yes</td>\n",
              "      <td>No</td>\n",
              "      <td>10/26/2015 08:40:00 AM</td>\n",
              "      <td>NaN</td>\n",
              "      <td>10/26/2015 08:40:39 AM</td>\n",
              "      <td>Running Late</td>\n",
              "      <td>Pre-K</td>\n",
              "    </tr>\n",
              "    <tr>\n",
              "      <th>1</th>\n",
              "      <td>2015-2016</td>\n",
              "      <td>1225098</td>\n",
              "      <td>Pre-K/EI</td>\n",
              "      <td>9302</td>\n",
              "      <td>1</td>\n",
              "      <td>Heavy Traffic</td>\n",
              "      <td>C814</td>\n",
              "      <td>10/27/2015 07:10:00 AM</td>\n",
              "      <td>10/27/2015 07:11:00 AM</td>\n",
              "      <td>Bronx</td>\n",
              "      <td>...</td>\n",
              "      <td>25 MINUTES</td>\n",
              "      <td>3</td>\n",
              "      <td>Yes</td>\n",
              "      <td>Yes</td>\n",
              "      <td>No</td>\n",
              "      <td>10/27/2015 07:11:00 AM</td>\n",
              "      <td>NaN</td>\n",
              "      <td>10/27/2015 07:11:22 AM</td>\n",
              "      <td>Running Late</td>\n",
              "      <td>Pre-K</td>\n",
              "    </tr>\n",
              "    <tr>\n",
              "      <th>2</th>\n",
              "      <td>2015-2016</td>\n",
              "      <td>1215800</td>\n",
              "      <td>Pre-K/EI</td>\n",
              "      <td>358</td>\n",
              "      <td>2</td>\n",
              "      <td>Heavy Traffic</td>\n",
              "      <td>C195</td>\n",
              "      <td>09/18/2015 07:36:00 AM</td>\n",
              "      <td>09/18/2015 07:38:00 AM</td>\n",
              "      <td>Bronx</td>\n",
              "      <td>...</td>\n",
              "      <td>15 MINUTES</td>\n",
              "      <td>12</td>\n",
              "      <td>Yes</td>\n",
              "      <td>Yes</td>\n",
              "      <td>Yes</td>\n",
              "      <td>09/18/2015 07:38:00 AM</td>\n",
              "      <td>NaN</td>\n",
              "      <td>09/18/2015 07:38:44 AM</td>\n",
              "      <td>Running Late</td>\n",
              "      <td>Pre-K</td>\n",
              "    </tr>\n",
              "    <tr>\n",
              "      <th>3</th>\n",
              "      <td>2015-2016</td>\n",
              "      <td>1215511</td>\n",
              "      <td>Pre-K/EI</td>\n",
              "      <td>331</td>\n",
              "      <td>2</td>\n",
              "      <td>Other</td>\n",
              "      <td>C178</td>\n",
              "      <td>09/17/2015 08:08:00 AM</td>\n",
              "      <td>09/17/2015 08:12:00 AM</td>\n",
              "      <td>Bronx</td>\n",
              "      <td>...</td>\n",
              "      <td>10 minutes</td>\n",
              "      <td>11</td>\n",
              "      <td>Yes</td>\n",
              "      <td>Yes</td>\n",
              "      <td>Yes</td>\n",
              "      <td>09/17/2015 08:12:00 AM</td>\n",
              "      <td>NaN</td>\n",
              "      <td>09/17/2015 08:12:08 AM</td>\n",
              "      <td>Running Late</td>\n",
              "      <td>Pre-K</td>\n",
              "    </tr>\n",
              "    <tr>\n",
              "      <th>4</th>\n",
              "      <td>2015-2016</td>\n",
              "      <td>1215828</td>\n",
              "      <td>Pre-K/EI</td>\n",
              "      <td>332</td>\n",
              "      <td>2</td>\n",
              "      <td>Other</td>\n",
              "      <td>S176</td>\n",
              "      <td>09/18/2015 07:39:00 AM</td>\n",
              "      <td>09/18/2015 07:45:00 AM</td>\n",
              "      <td>Bronx</td>\n",
              "      <td>...</td>\n",
              "      <td>10MINUTES</td>\n",
              "      <td>12</td>\n",
              "      <td>Yes</td>\n",
              "      <td>Yes</td>\n",
              "      <td>No</td>\n",
              "      <td>09/18/2015 07:45:00 AM</td>\n",
              "      <td>NaN</td>\n",
              "      <td>09/18/2015 07:56:40 AM</td>\n",
              "      <td>Running Late</td>\n",
              "      <td>Pre-K</td>\n",
              "    </tr>\n",
              "  </tbody>\n",
              "</table>\n",
              "<p>5 rows × 21 columns</p>\n",
              "</div>\n",
              "    <div class=\"colab-df-buttons\">\n",
              "\n",
              "  <div class=\"colab-df-container\">\n",
              "    <button class=\"colab-df-convert\" onclick=\"convertToInteractive('df-189920af-7225-4601-8253-f28130c96e33')\"\n",
              "            title=\"Convert this dataframe to an interactive table.\"\n",
              "            style=\"display:none;\">\n",
              "\n",
              "  <svg xmlns=\"http://www.w3.org/2000/svg\" height=\"24px\" viewBox=\"0 -960 960 960\">\n",
              "    <path d=\"M120-120v-720h720v720H120Zm60-500h600v-160H180v160Zm220 220h160v-160H400v160Zm0 220h160v-160H400v160ZM180-400h160v-160H180v160Zm440 0h160v-160H620v160ZM180-180h160v-160H180v160Zm440 0h160v-160H620v160Z\"/>\n",
              "  </svg>\n",
              "    </button>\n",
              "\n",
              "  <style>\n",
              "    .colab-df-container {\n",
              "      display:flex;\n",
              "      gap: 12px;\n",
              "    }\n",
              "\n",
              "    .colab-df-convert {\n",
              "      background-color: #E8F0FE;\n",
              "      border: none;\n",
              "      border-radius: 50%;\n",
              "      cursor: pointer;\n",
              "      display: none;\n",
              "      fill: #1967D2;\n",
              "      height: 32px;\n",
              "      padding: 0 0 0 0;\n",
              "      width: 32px;\n",
              "    }\n",
              "\n",
              "    .colab-df-convert:hover {\n",
              "      background-color: #E2EBFA;\n",
              "      box-shadow: 0px 1px 2px rgba(60, 64, 67, 0.3), 0px 1px 3px 1px rgba(60, 64, 67, 0.15);\n",
              "      fill: #174EA6;\n",
              "    }\n",
              "\n",
              "    .colab-df-buttons div {\n",
              "      margin-bottom: 4px;\n",
              "    }\n",
              "\n",
              "    [theme=dark] .colab-df-convert {\n",
              "      background-color: #3B4455;\n",
              "      fill: #D2E3FC;\n",
              "    }\n",
              "\n",
              "    [theme=dark] .colab-df-convert:hover {\n",
              "      background-color: #434B5C;\n",
              "      box-shadow: 0px 1px 3px 1px rgba(0, 0, 0, 0.15);\n",
              "      filter: drop-shadow(0px 1px 2px rgba(0, 0, 0, 0.3));\n",
              "      fill: #FFFFFF;\n",
              "    }\n",
              "  </style>\n",
              "\n",
              "    <script>\n",
              "      const buttonEl =\n",
              "        document.querySelector('#df-189920af-7225-4601-8253-f28130c96e33 button.colab-df-convert');\n",
              "      buttonEl.style.display =\n",
              "        google.colab.kernel.accessAllowed ? 'block' : 'none';\n",
              "\n",
              "      async function convertToInteractive(key) {\n",
              "        const element = document.querySelector('#df-189920af-7225-4601-8253-f28130c96e33');\n",
              "        const dataTable =\n",
              "          await google.colab.kernel.invokeFunction('convertToInteractive',\n",
              "                                                    [key], {});\n",
              "        if (!dataTable) return;\n",
              "\n",
              "        const docLinkHtml = 'Like what you see? Visit the ' +\n",
              "          '<a target=\"_blank\" href=https://colab.research.google.com/notebooks/data_table.ipynb>data table notebook</a>'\n",
              "          + ' to learn more about interactive tables.';\n",
              "        element.innerHTML = '';\n",
              "        dataTable['output_type'] = 'display_data';\n",
              "        await google.colab.output.renderOutput(dataTable, element);\n",
              "        const docLink = document.createElement('div');\n",
              "        docLink.innerHTML = docLinkHtml;\n",
              "        element.appendChild(docLink);\n",
              "      }\n",
              "    </script>\n",
              "  </div>\n",
              "\n",
              "\n",
              "<div id=\"df-a00cc61a-16a1-4091-be62-f2bc1cc7100f\">\n",
              "  <button class=\"colab-df-quickchart\" onclick=\"quickchart('df-a00cc61a-16a1-4091-be62-f2bc1cc7100f')\"\n",
              "            title=\"Suggest charts\"\n",
              "            style=\"display:none;\">\n",
              "\n",
              "<svg xmlns=\"http://www.w3.org/2000/svg\" height=\"24px\"viewBox=\"0 0 24 24\"\n",
              "     width=\"24px\">\n",
              "    <g>\n",
              "        <path d=\"M19 3H5c-1.1 0-2 .9-2 2v14c0 1.1.9 2 2 2h14c1.1 0 2-.9 2-2V5c0-1.1-.9-2-2-2zM9 17H7v-7h2v7zm4 0h-2V7h2v10zm4 0h-2v-4h2v4z\"/>\n",
              "    </g>\n",
              "</svg>\n",
              "  </button>\n",
              "\n",
              "<style>\n",
              "  .colab-df-quickchart {\n",
              "      --bg-color: #E8F0FE;\n",
              "      --fill-color: #1967D2;\n",
              "      --hover-bg-color: #E2EBFA;\n",
              "      --hover-fill-color: #174EA6;\n",
              "      --disabled-fill-color: #AAA;\n",
              "      --disabled-bg-color: #DDD;\n",
              "  }\n",
              "\n",
              "  [theme=dark] .colab-df-quickchart {\n",
              "      --bg-color: #3B4455;\n",
              "      --fill-color: #D2E3FC;\n",
              "      --hover-bg-color: #434B5C;\n",
              "      --hover-fill-color: #FFFFFF;\n",
              "      --disabled-bg-color: #3B4455;\n",
              "      --disabled-fill-color: #666;\n",
              "  }\n",
              "\n",
              "  .colab-df-quickchart {\n",
              "    background-color: var(--bg-color);\n",
              "    border: none;\n",
              "    border-radius: 50%;\n",
              "    cursor: pointer;\n",
              "    display: none;\n",
              "    fill: var(--fill-color);\n",
              "    height: 32px;\n",
              "    padding: 0;\n",
              "    width: 32px;\n",
              "  }\n",
              "\n",
              "  .colab-df-quickchart:hover {\n",
              "    background-color: var(--hover-bg-color);\n",
              "    box-shadow: 0 1px 2px rgba(60, 64, 67, 0.3), 0 1px 3px 1px rgba(60, 64, 67, 0.15);\n",
              "    fill: var(--button-hover-fill-color);\n",
              "  }\n",
              "\n",
              "  .colab-df-quickchart-complete:disabled,\n",
              "  .colab-df-quickchart-complete:disabled:hover {\n",
              "    background-color: var(--disabled-bg-color);\n",
              "    fill: var(--disabled-fill-color);\n",
              "    box-shadow: none;\n",
              "  }\n",
              "\n",
              "  .colab-df-spinner {\n",
              "    border: 2px solid var(--fill-color);\n",
              "    border-color: transparent;\n",
              "    border-bottom-color: var(--fill-color);\n",
              "    animation:\n",
              "      spin 1s steps(1) infinite;\n",
              "  }\n",
              "\n",
              "  @keyframes spin {\n",
              "    0% {\n",
              "      border-color: transparent;\n",
              "      border-bottom-color: var(--fill-color);\n",
              "      border-left-color: var(--fill-color);\n",
              "    }\n",
              "    20% {\n",
              "      border-color: transparent;\n",
              "      border-left-color: var(--fill-color);\n",
              "      border-top-color: var(--fill-color);\n",
              "    }\n",
              "    30% {\n",
              "      border-color: transparent;\n",
              "      border-left-color: var(--fill-color);\n",
              "      border-top-color: var(--fill-color);\n",
              "      border-right-color: var(--fill-color);\n",
              "    }\n",
              "    40% {\n",
              "      border-color: transparent;\n",
              "      border-right-color: var(--fill-color);\n",
              "      border-top-color: var(--fill-color);\n",
              "    }\n",
              "    60% {\n",
              "      border-color: transparent;\n",
              "      border-right-color: var(--fill-color);\n",
              "    }\n",
              "    80% {\n",
              "      border-color: transparent;\n",
              "      border-right-color: var(--fill-color);\n",
              "      border-bottom-color: var(--fill-color);\n",
              "    }\n",
              "    90% {\n",
              "      border-color: transparent;\n",
              "      border-bottom-color: var(--fill-color);\n",
              "    }\n",
              "  }\n",
              "</style>\n",
              "\n",
              "  <script>\n",
              "    async function quickchart(key) {\n",
              "      const quickchartButtonEl =\n",
              "        document.querySelector('#' + key + ' button');\n",
              "      quickchartButtonEl.disabled = true;  // To prevent multiple clicks.\n",
              "      quickchartButtonEl.classList.add('colab-df-spinner');\n",
              "      try {\n",
              "        const charts = await google.colab.kernel.invokeFunction(\n",
              "            'suggestCharts', [key], {});\n",
              "      } catch (error) {\n",
              "        console.error('Error during call to suggestCharts:', error);\n",
              "      }\n",
              "      quickchartButtonEl.classList.remove('colab-df-spinner');\n",
              "      quickchartButtonEl.classList.add('colab-df-quickchart-complete');\n",
              "    }\n",
              "    (() => {\n",
              "      let quickchartButtonEl =\n",
              "        document.querySelector('#df-a00cc61a-16a1-4091-be62-f2bc1cc7100f button');\n",
              "      quickchartButtonEl.style.display =\n",
              "        google.colab.kernel.accessAllowed ? 'block' : 'none';\n",
              "    })();\n",
              "  </script>\n",
              "</div>\n",
              "\n",
              "    </div>\n",
              "  </div>\n"
            ],
            "application/vnd.google.colaboratory.intrinsic+json": {
              "type": "dataframe",
              "variable_name": "df"
            }
          },
          "metadata": {},
          "execution_count": 248
        }
      ]
    },
    {
      "cell_type": "code",
      "source": [
        "df.info()"
      ],
      "metadata": {
        "colab": {
          "base_uri": "https://localhost:8080/"
        },
        "id": "x4mKMFoPcMbt",
        "outputId": "4c1681b5-1dc3-45a9-c606-60366f41b547"
      },
      "id": "x4mKMFoPcMbt",
      "execution_count": 249,
      "outputs": [
        {
          "output_type": "stream",
          "name": "stdout",
          "text": [
            "<class 'pandas.core.frame.DataFrame'>\n",
            "RangeIndex: 147972 entries, 0 to 147971\n",
            "Data columns (total 21 columns):\n",
            " #   Column                           Non-Null Count   Dtype \n",
            "---  ------                           --------------   ----- \n",
            " 0   School_Year                      147972 non-null  object\n",
            " 1   Busbreakdown_ID                  147972 non-null  int64 \n",
            " 2   Run_Type                         147883 non-null  object\n",
            " 3   Bus_No                           147972 non-null  object\n",
            " 4   Route_Number                     147884 non-null  object\n",
            " 5   Reason                           147870 non-null  object\n",
            " 6   Schools_Serviced                 147972 non-null  object\n",
            " 7   Occurred_On                      147972 non-null  object\n",
            " 8   Created_On                       147972 non-null  object\n",
            " 9   Boro                             141654 non-null  object\n",
            " 10  Bus_Company_Name                 147972 non-null  object\n",
            " 11  How_Long_Delayed                 126342 non-null  object\n",
            " 12  Number_Of_Students_On_The_Bus    147972 non-null  int64 \n",
            " 13  Has_Contractor_Notified_Schools  147972 non-null  object\n",
            " 14  Has_Contractor_Notified_Parents  147972 non-null  object\n",
            " 15  Have_You_Alerted_OPT             147972 non-null  object\n",
            " 16  Informed_On                      147972 non-null  object\n",
            " 17  Incident_Number                  5632 non-null    object\n",
            " 18  Last_Updated_On                  147972 non-null  object\n",
            " 19  Breakdown_or_Running_Late        147972 non-null  object\n",
            " 20  School_Age_or_PreK               147972 non-null  object\n",
            "dtypes: int64(2), object(19)\n",
            "memory usage: 23.7+ MB\n"
          ]
        }
      ]
    },
    {
      "cell_type": "code",
      "source": [
        "df.describe()"
      ],
      "metadata": {
        "colab": {
          "base_uri": "https://localhost:8080/",
          "height": 300
        },
        "id": "B_0ZD4oTcMeA",
        "outputId": "0263acf3-4e16-45dc-b960-d6064a8474ff"
      },
      "id": "B_0ZD4oTcMeA",
      "execution_count": 250,
      "outputs": [
        {
          "output_type": "execute_result",
          "data": {
            "text/plain": [
              "       Busbreakdown_ID  Number_Of_Students_On_The_Bus\n",
              "count     1.479720e+05                  147972.000000\n",
              "mean      1.287779e+06                       3.590071\n",
              "std       4.324338e+04                      55.365859\n",
              "min       1.212681e+06                       0.000000\n",
              "25%       1.250438e+06                       0.000000\n",
              "50%       1.287844e+06                       0.000000\n",
              "75%       1.325191e+06                       4.000000\n",
              "max       1.362605e+06                    9007.000000"
            ],
            "text/html": [
              "\n",
              "  <div id=\"df-aadec18b-da9d-45e6-9fbc-aeccebe78df5\" class=\"colab-df-container\">\n",
              "    <div>\n",
              "<style scoped>\n",
              "    .dataframe tbody tr th:only-of-type {\n",
              "        vertical-align: middle;\n",
              "    }\n",
              "\n",
              "    .dataframe tbody tr th {\n",
              "        vertical-align: top;\n",
              "    }\n",
              "\n",
              "    .dataframe thead th {\n",
              "        text-align: right;\n",
              "    }\n",
              "</style>\n",
              "<table border=\"1\" class=\"dataframe\">\n",
              "  <thead>\n",
              "    <tr style=\"text-align: right;\">\n",
              "      <th></th>\n",
              "      <th>Busbreakdown_ID</th>\n",
              "      <th>Number_Of_Students_On_The_Bus</th>\n",
              "    </tr>\n",
              "  </thead>\n",
              "  <tbody>\n",
              "    <tr>\n",
              "      <th>count</th>\n",
              "      <td>1.479720e+05</td>\n",
              "      <td>147972.000000</td>\n",
              "    </tr>\n",
              "    <tr>\n",
              "      <th>mean</th>\n",
              "      <td>1.287779e+06</td>\n",
              "      <td>3.590071</td>\n",
              "    </tr>\n",
              "    <tr>\n",
              "      <th>std</th>\n",
              "      <td>4.324338e+04</td>\n",
              "      <td>55.365859</td>\n",
              "    </tr>\n",
              "    <tr>\n",
              "      <th>min</th>\n",
              "      <td>1.212681e+06</td>\n",
              "      <td>0.000000</td>\n",
              "    </tr>\n",
              "    <tr>\n",
              "      <th>25%</th>\n",
              "      <td>1.250438e+06</td>\n",
              "      <td>0.000000</td>\n",
              "    </tr>\n",
              "    <tr>\n",
              "      <th>50%</th>\n",
              "      <td>1.287844e+06</td>\n",
              "      <td>0.000000</td>\n",
              "    </tr>\n",
              "    <tr>\n",
              "      <th>75%</th>\n",
              "      <td>1.325191e+06</td>\n",
              "      <td>4.000000</td>\n",
              "    </tr>\n",
              "    <tr>\n",
              "      <th>max</th>\n",
              "      <td>1.362605e+06</td>\n",
              "      <td>9007.000000</td>\n",
              "    </tr>\n",
              "  </tbody>\n",
              "</table>\n",
              "</div>\n",
              "    <div class=\"colab-df-buttons\">\n",
              "\n",
              "  <div class=\"colab-df-container\">\n",
              "    <button class=\"colab-df-convert\" onclick=\"convertToInteractive('df-aadec18b-da9d-45e6-9fbc-aeccebe78df5')\"\n",
              "            title=\"Convert this dataframe to an interactive table.\"\n",
              "            style=\"display:none;\">\n",
              "\n",
              "  <svg xmlns=\"http://www.w3.org/2000/svg\" height=\"24px\" viewBox=\"0 -960 960 960\">\n",
              "    <path d=\"M120-120v-720h720v720H120Zm60-500h600v-160H180v160Zm220 220h160v-160H400v160Zm0 220h160v-160H400v160ZM180-400h160v-160H180v160Zm440 0h160v-160H620v160ZM180-180h160v-160H180v160Zm440 0h160v-160H620v160Z\"/>\n",
              "  </svg>\n",
              "    </button>\n",
              "\n",
              "  <style>\n",
              "    .colab-df-container {\n",
              "      display:flex;\n",
              "      gap: 12px;\n",
              "    }\n",
              "\n",
              "    .colab-df-convert {\n",
              "      background-color: #E8F0FE;\n",
              "      border: none;\n",
              "      border-radius: 50%;\n",
              "      cursor: pointer;\n",
              "      display: none;\n",
              "      fill: #1967D2;\n",
              "      height: 32px;\n",
              "      padding: 0 0 0 0;\n",
              "      width: 32px;\n",
              "    }\n",
              "\n",
              "    .colab-df-convert:hover {\n",
              "      background-color: #E2EBFA;\n",
              "      box-shadow: 0px 1px 2px rgba(60, 64, 67, 0.3), 0px 1px 3px 1px rgba(60, 64, 67, 0.15);\n",
              "      fill: #174EA6;\n",
              "    }\n",
              "\n",
              "    .colab-df-buttons div {\n",
              "      margin-bottom: 4px;\n",
              "    }\n",
              "\n",
              "    [theme=dark] .colab-df-convert {\n",
              "      background-color: #3B4455;\n",
              "      fill: #D2E3FC;\n",
              "    }\n",
              "\n",
              "    [theme=dark] .colab-df-convert:hover {\n",
              "      background-color: #434B5C;\n",
              "      box-shadow: 0px 1px 3px 1px rgba(0, 0, 0, 0.15);\n",
              "      filter: drop-shadow(0px 1px 2px rgba(0, 0, 0, 0.3));\n",
              "      fill: #FFFFFF;\n",
              "    }\n",
              "  </style>\n",
              "\n",
              "    <script>\n",
              "      const buttonEl =\n",
              "        document.querySelector('#df-aadec18b-da9d-45e6-9fbc-aeccebe78df5 button.colab-df-convert');\n",
              "      buttonEl.style.display =\n",
              "        google.colab.kernel.accessAllowed ? 'block' : 'none';\n",
              "\n",
              "      async function convertToInteractive(key) {\n",
              "        const element = document.querySelector('#df-aadec18b-da9d-45e6-9fbc-aeccebe78df5');\n",
              "        const dataTable =\n",
              "          await google.colab.kernel.invokeFunction('convertToInteractive',\n",
              "                                                    [key], {});\n",
              "        if (!dataTable) return;\n",
              "\n",
              "        const docLinkHtml = 'Like what you see? Visit the ' +\n",
              "          '<a target=\"_blank\" href=https://colab.research.google.com/notebooks/data_table.ipynb>data table notebook</a>'\n",
              "          + ' to learn more about interactive tables.';\n",
              "        element.innerHTML = '';\n",
              "        dataTable['output_type'] = 'display_data';\n",
              "        await google.colab.output.renderOutput(dataTable, element);\n",
              "        const docLink = document.createElement('div');\n",
              "        docLink.innerHTML = docLinkHtml;\n",
              "        element.appendChild(docLink);\n",
              "      }\n",
              "    </script>\n",
              "  </div>\n",
              "\n",
              "\n",
              "<div id=\"df-27c23aac-2836-41e3-83eb-cf033c4b6543\">\n",
              "  <button class=\"colab-df-quickchart\" onclick=\"quickchart('df-27c23aac-2836-41e3-83eb-cf033c4b6543')\"\n",
              "            title=\"Suggest charts\"\n",
              "            style=\"display:none;\">\n",
              "\n",
              "<svg xmlns=\"http://www.w3.org/2000/svg\" height=\"24px\"viewBox=\"0 0 24 24\"\n",
              "     width=\"24px\">\n",
              "    <g>\n",
              "        <path d=\"M19 3H5c-1.1 0-2 .9-2 2v14c0 1.1.9 2 2 2h14c1.1 0 2-.9 2-2V5c0-1.1-.9-2-2-2zM9 17H7v-7h2v7zm4 0h-2V7h2v10zm4 0h-2v-4h2v4z\"/>\n",
              "    </g>\n",
              "</svg>\n",
              "  </button>\n",
              "\n",
              "<style>\n",
              "  .colab-df-quickchart {\n",
              "      --bg-color: #E8F0FE;\n",
              "      --fill-color: #1967D2;\n",
              "      --hover-bg-color: #E2EBFA;\n",
              "      --hover-fill-color: #174EA6;\n",
              "      --disabled-fill-color: #AAA;\n",
              "      --disabled-bg-color: #DDD;\n",
              "  }\n",
              "\n",
              "  [theme=dark] .colab-df-quickchart {\n",
              "      --bg-color: #3B4455;\n",
              "      --fill-color: #D2E3FC;\n",
              "      --hover-bg-color: #434B5C;\n",
              "      --hover-fill-color: #FFFFFF;\n",
              "      --disabled-bg-color: #3B4455;\n",
              "      --disabled-fill-color: #666;\n",
              "  }\n",
              "\n",
              "  .colab-df-quickchart {\n",
              "    background-color: var(--bg-color);\n",
              "    border: none;\n",
              "    border-radius: 50%;\n",
              "    cursor: pointer;\n",
              "    display: none;\n",
              "    fill: var(--fill-color);\n",
              "    height: 32px;\n",
              "    padding: 0;\n",
              "    width: 32px;\n",
              "  }\n",
              "\n",
              "  .colab-df-quickchart:hover {\n",
              "    background-color: var(--hover-bg-color);\n",
              "    box-shadow: 0 1px 2px rgba(60, 64, 67, 0.3), 0 1px 3px 1px rgba(60, 64, 67, 0.15);\n",
              "    fill: var(--button-hover-fill-color);\n",
              "  }\n",
              "\n",
              "  .colab-df-quickchart-complete:disabled,\n",
              "  .colab-df-quickchart-complete:disabled:hover {\n",
              "    background-color: var(--disabled-bg-color);\n",
              "    fill: var(--disabled-fill-color);\n",
              "    box-shadow: none;\n",
              "  }\n",
              "\n",
              "  .colab-df-spinner {\n",
              "    border: 2px solid var(--fill-color);\n",
              "    border-color: transparent;\n",
              "    border-bottom-color: var(--fill-color);\n",
              "    animation:\n",
              "      spin 1s steps(1) infinite;\n",
              "  }\n",
              "\n",
              "  @keyframes spin {\n",
              "    0% {\n",
              "      border-color: transparent;\n",
              "      border-bottom-color: var(--fill-color);\n",
              "      border-left-color: var(--fill-color);\n",
              "    }\n",
              "    20% {\n",
              "      border-color: transparent;\n",
              "      border-left-color: var(--fill-color);\n",
              "      border-top-color: var(--fill-color);\n",
              "    }\n",
              "    30% {\n",
              "      border-color: transparent;\n",
              "      border-left-color: var(--fill-color);\n",
              "      border-top-color: var(--fill-color);\n",
              "      border-right-color: var(--fill-color);\n",
              "    }\n",
              "    40% {\n",
              "      border-color: transparent;\n",
              "      border-right-color: var(--fill-color);\n",
              "      border-top-color: var(--fill-color);\n",
              "    }\n",
              "    60% {\n",
              "      border-color: transparent;\n",
              "      border-right-color: var(--fill-color);\n",
              "    }\n",
              "    80% {\n",
              "      border-color: transparent;\n",
              "      border-right-color: var(--fill-color);\n",
              "      border-bottom-color: var(--fill-color);\n",
              "    }\n",
              "    90% {\n",
              "      border-color: transparent;\n",
              "      border-bottom-color: var(--fill-color);\n",
              "    }\n",
              "  }\n",
              "</style>\n",
              "\n",
              "  <script>\n",
              "    async function quickchart(key) {\n",
              "      const quickchartButtonEl =\n",
              "        document.querySelector('#' + key + ' button');\n",
              "      quickchartButtonEl.disabled = true;  // To prevent multiple clicks.\n",
              "      quickchartButtonEl.classList.add('colab-df-spinner');\n",
              "      try {\n",
              "        const charts = await google.colab.kernel.invokeFunction(\n",
              "            'suggestCharts', [key], {});\n",
              "      } catch (error) {\n",
              "        console.error('Error during call to suggestCharts:', error);\n",
              "      }\n",
              "      quickchartButtonEl.classList.remove('colab-df-spinner');\n",
              "      quickchartButtonEl.classList.add('colab-df-quickchart-complete');\n",
              "    }\n",
              "    (() => {\n",
              "      let quickchartButtonEl =\n",
              "        document.querySelector('#df-27c23aac-2836-41e3-83eb-cf033c4b6543 button');\n",
              "      quickchartButtonEl.style.display =\n",
              "        google.colab.kernel.accessAllowed ? 'block' : 'none';\n",
              "    })();\n",
              "  </script>\n",
              "</div>\n",
              "\n",
              "    </div>\n",
              "  </div>\n"
            ],
            "application/vnd.google.colaboratory.intrinsic+json": {
              "type": "dataframe",
              "summary": "{\n  \"name\": \"df\",\n  \"rows\": 8,\n  \"fields\": [\n    {\n      \"column\": \"Busbreakdown_ID\",\n      \"properties\": {\n        \"dtype\": \"number\",\n        \"std\": 554377.8956547328,\n        \"min\": 43243.38216372064,\n        \"max\": 1362605.0,\n        \"num_unique_values\": 8,\n        \"samples\": [\n          1287778.9169707783,\n          1287843.5,\n          147972.0\n        ],\n        \"semantic_type\": \"\",\n        \"description\": \"\"\n      }\n    },\n    {\n      \"column\": \"Number_Of_Students_On_The_Bus\",\n      \"properties\": {\n        \"dtype\": \"number\",\n        \"std\": 51953.37186493656,\n        \"min\": 0.0,\n        \"max\": 147972.0,\n        \"num_unique_values\": 6,\n        \"samples\": [\n          147972.0,\n          3.590071094531398,\n          9007.0\n        ],\n        \"semantic_type\": \"\",\n        \"description\": \"\"\n      }\n    }\n  ]\n}"
            }
          },
          "metadata": {},
          "execution_count": 250
        }
      ]
    },
    {
      "cell_type": "code",
      "source": [
        "df.isna().sum()\n"
      ],
      "metadata": {
        "colab": {
          "base_uri": "https://localhost:8080/",
          "height": 743
        },
        "id": "MW0jWDwkcMgb",
        "outputId": "9adcf7ef-4e69-40d5-d597-b38007d29660"
      },
      "id": "MW0jWDwkcMgb",
      "execution_count": 251,
      "outputs": [
        {
          "output_type": "execute_result",
          "data": {
            "text/plain": [
              "School_Year                             0\n",
              "Busbreakdown_ID                         0\n",
              "Run_Type                               89\n",
              "Bus_No                                  0\n",
              "Route_Number                           88\n",
              "Reason                                102\n",
              "Schools_Serviced                        0\n",
              "Occurred_On                             0\n",
              "Created_On                              0\n",
              "Boro                                 6318\n",
              "Bus_Company_Name                        0\n",
              "How_Long_Delayed                    21630\n",
              "Number_Of_Students_On_The_Bus           0\n",
              "Has_Contractor_Notified_Schools         0\n",
              "Has_Contractor_Notified_Parents         0\n",
              "Have_You_Alerted_OPT                    0\n",
              "Informed_On                             0\n",
              "Incident_Number                    142340\n",
              "Last_Updated_On                         0\n",
              "Breakdown_or_Running_Late               0\n",
              "School_Age_or_PreK                      0\n",
              "dtype: int64"
            ],
            "text/html": [
              "<div>\n",
              "<style scoped>\n",
              "    .dataframe tbody tr th:only-of-type {\n",
              "        vertical-align: middle;\n",
              "    }\n",
              "\n",
              "    .dataframe tbody tr th {\n",
              "        vertical-align: top;\n",
              "    }\n",
              "\n",
              "    .dataframe thead th {\n",
              "        text-align: right;\n",
              "    }\n",
              "</style>\n",
              "<table border=\"1\" class=\"dataframe\">\n",
              "  <thead>\n",
              "    <tr style=\"text-align: right;\">\n",
              "      <th></th>\n",
              "      <th>0</th>\n",
              "    </tr>\n",
              "  </thead>\n",
              "  <tbody>\n",
              "    <tr>\n",
              "      <th>School_Year</th>\n",
              "      <td>0</td>\n",
              "    </tr>\n",
              "    <tr>\n",
              "      <th>Busbreakdown_ID</th>\n",
              "      <td>0</td>\n",
              "    </tr>\n",
              "    <tr>\n",
              "      <th>Run_Type</th>\n",
              "      <td>89</td>\n",
              "    </tr>\n",
              "    <tr>\n",
              "      <th>Bus_No</th>\n",
              "      <td>0</td>\n",
              "    </tr>\n",
              "    <tr>\n",
              "      <th>Route_Number</th>\n",
              "      <td>88</td>\n",
              "    </tr>\n",
              "    <tr>\n",
              "      <th>Reason</th>\n",
              "      <td>102</td>\n",
              "    </tr>\n",
              "    <tr>\n",
              "      <th>Schools_Serviced</th>\n",
              "      <td>0</td>\n",
              "    </tr>\n",
              "    <tr>\n",
              "      <th>Occurred_On</th>\n",
              "      <td>0</td>\n",
              "    </tr>\n",
              "    <tr>\n",
              "      <th>Created_On</th>\n",
              "      <td>0</td>\n",
              "    </tr>\n",
              "    <tr>\n",
              "      <th>Boro</th>\n",
              "      <td>6318</td>\n",
              "    </tr>\n",
              "    <tr>\n",
              "      <th>Bus_Company_Name</th>\n",
              "      <td>0</td>\n",
              "    </tr>\n",
              "    <tr>\n",
              "      <th>How_Long_Delayed</th>\n",
              "      <td>21630</td>\n",
              "    </tr>\n",
              "    <tr>\n",
              "      <th>Number_Of_Students_On_The_Bus</th>\n",
              "      <td>0</td>\n",
              "    </tr>\n",
              "    <tr>\n",
              "      <th>Has_Contractor_Notified_Schools</th>\n",
              "      <td>0</td>\n",
              "    </tr>\n",
              "    <tr>\n",
              "      <th>Has_Contractor_Notified_Parents</th>\n",
              "      <td>0</td>\n",
              "    </tr>\n",
              "    <tr>\n",
              "      <th>Have_You_Alerted_OPT</th>\n",
              "      <td>0</td>\n",
              "    </tr>\n",
              "    <tr>\n",
              "      <th>Informed_On</th>\n",
              "      <td>0</td>\n",
              "    </tr>\n",
              "    <tr>\n",
              "      <th>Incident_Number</th>\n",
              "      <td>142340</td>\n",
              "    </tr>\n",
              "    <tr>\n",
              "      <th>Last_Updated_On</th>\n",
              "      <td>0</td>\n",
              "    </tr>\n",
              "    <tr>\n",
              "      <th>Breakdown_or_Running_Late</th>\n",
              "      <td>0</td>\n",
              "    </tr>\n",
              "    <tr>\n",
              "      <th>School_Age_or_PreK</th>\n",
              "      <td>0</td>\n",
              "    </tr>\n",
              "  </tbody>\n",
              "</table>\n",
              "</div><br><label><b>dtype:</b> int64</label>"
            ]
          },
          "metadata": {},
          "execution_count": 251
        }
      ]
    },
    {
      "cell_type": "code",
      "source": [
        "df.duplicated().sum()"
      ],
      "metadata": {
        "colab": {
          "base_uri": "https://localhost:8080/"
        },
        "id": "9QOK9r-OcMiy",
        "outputId": "4247ef2b-b7df-49ef-b8b1-2a10803c50ff"
      },
      "id": "9QOK9r-OcMiy",
      "execution_count": 252,
      "outputs": [
        {
          "output_type": "execute_result",
          "data": {
            "text/plain": [
              "0"
            ]
          },
          "metadata": {},
          "execution_count": 252
        }
      ]
    },
    {
      "cell_type": "code",
      "source": [
        "df=df.dropna()"
      ],
      "metadata": {
        "id": "AB0SJUYachsw"
      },
      "id": "AB0SJUYachsw",
      "execution_count": 253,
      "outputs": []
    },
    {
      "cell_type": "code",
      "source": [
        "df.isna().sum()"
      ],
      "metadata": {
        "colab": {
          "base_uri": "https://localhost:8080/",
          "height": 743
        },
        "id": "LeuttiZxchut",
        "outputId": "87793375-76ec-405b-958a-36738e0a4713"
      },
      "id": "LeuttiZxchut",
      "execution_count": 254,
      "outputs": [
        {
          "output_type": "execute_result",
          "data": {
            "text/plain": [
              "School_Year                        0\n",
              "Busbreakdown_ID                    0\n",
              "Run_Type                           0\n",
              "Bus_No                             0\n",
              "Route_Number                       0\n",
              "Reason                             0\n",
              "Schools_Serviced                   0\n",
              "Occurred_On                        0\n",
              "Created_On                         0\n",
              "Boro                               0\n",
              "Bus_Company_Name                   0\n",
              "How_Long_Delayed                   0\n",
              "Number_Of_Students_On_The_Bus      0\n",
              "Has_Contractor_Notified_Schools    0\n",
              "Has_Contractor_Notified_Parents    0\n",
              "Have_You_Alerted_OPT               0\n",
              "Informed_On                        0\n",
              "Incident_Number                    0\n",
              "Last_Updated_On                    0\n",
              "Breakdown_or_Running_Late          0\n",
              "School_Age_or_PreK                 0\n",
              "dtype: int64"
            ],
            "text/html": [
              "<div>\n",
              "<style scoped>\n",
              "    .dataframe tbody tr th:only-of-type {\n",
              "        vertical-align: middle;\n",
              "    }\n",
              "\n",
              "    .dataframe tbody tr th {\n",
              "        vertical-align: top;\n",
              "    }\n",
              "\n",
              "    .dataframe thead th {\n",
              "        text-align: right;\n",
              "    }\n",
              "</style>\n",
              "<table border=\"1\" class=\"dataframe\">\n",
              "  <thead>\n",
              "    <tr style=\"text-align: right;\">\n",
              "      <th></th>\n",
              "      <th>0</th>\n",
              "    </tr>\n",
              "  </thead>\n",
              "  <tbody>\n",
              "    <tr>\n",
              "      <th>School_Year</th>\n",
              "      <td>0</td>\n",
              "    </tr>\n",
              "    <tr>\n",
              "      <th>Busbreakdown_ID</th>\n",
              "      <td>0</td>\n",
              "    </tr>\n",
              "    <tr>\n",
              "      <th>Run_Type</th>\n",
              "      <td>0</td>\n",
              "    </tr>\n",
              "    <tr>\n",
              "      <th>Bus_No</th>\n",
              "      <td>0</td>\n",
              "    </tr>\n",
              "    <tr>\n",
              "      <th>Route_Number</th>\n",
              "      <td>0</td>\n",
              "    </tr>\n",
              "    <tr>\n",
              "      <th>Reason</th>\n",
              "      <td>0</td>\n",
              "    </tr>\n",
              "    <tr>\n",
              "      <th>Schools_Serviced</th>\n",
              "      <td>0</td>\n",
              "    </tr>\n",
              "    <tr>\n",
              "      <th>Occurred_On</th>\n",
              "      <td>0</td>\n",
              "    </tr>\n",
              "    <tr>\n",
              "      <th>Created_On</th>\n",
              "      <td>0</td>\n",
              "    </tr>\n",
              "    <tr>\n",
              "      <th>Boro</th>\n",
              "      <td>0</td>\n",
              "    </tr>\n",
              "    <tr>\n",
              "      <th>Bus_Company_Name</th>\n",
              "      <td>0</td>\n",
              "    </tr>\n",
              "    <tr>\n",
              "      <th>How_Long_Delayed</th>\n",
              "      <td>0</td>\n",
              "    </tr>\n",
              "    <tr>\n",
              "      <th>Number_Of_Students_On_The_Bus</th>\n",
              "      <td>0</td>\n",
              "    </tr>\n",
              "    <tr>\n",
              "      <th>Has_Contractor_Notified_Schools</th>\n",
              "      <td>0</td>\n",
              "    </tr>\n",
              "    <tr>\n",
              "      <th>Has_Contractor_Notified_Parents</th>\n",
              "      <td>0</td>\n",
              "    </tr>\n",
              "    <tr>\n",
              "      <th>Have_You_Alerted_OPT</th>\n",
              "      <td>0</td>\n",
              "    </tr>\n",
              "    <tr>\n",
              "      <th>Informed_On</th>\n",
              "      <td>0</td>\n",
              "    </tr>\n",
              "    <tr>\n",
              "      <th>Incident_Number</th>\n",
              "      <td>0</td>\n",
              "    </tr>\n",
              "    <tr>\n",
              "      <th>Last_Updated_On</th>\n",
              "      <td>0</td>\n",
              "    </tr>\n",
              "    <tr>\n",
              "      <th>Breakdown_or_Running_Late</th>\n",
              "      <td>0</td>\n",
              "    </tr>\n",
              "    <tr>\n",
              "      <th>School_Age_or_PreK</th>\n",
              "      <td>0</td>\n",
              "    </tr>\n",
              "  </tbody>\n",
              "</table>\n",
              "</div><br><label><b>dtype:</b> int64</label>"
            ]
          },
          "metadata": {},
          "execution_count": 254
        }
      ]
    },
    {
      "cell_type": "code",
      "source": [
        "df.info()"
      ],
      "metadata": {
        "colab": {
          "base_uri": "https://localhost:8080/"
        },
        "id": "I_hryzcichxA",
        "outputId": "d68e34fe-1350-4b02-9fb1-accdc9c1dbd8"
      },
      "id": "I_hryzcichxA",
      "execution_count": 255,
      "outputs": [
        {
          "output_type": "stream",
          "name": "stdout",
          "text": [
            "<class 'pandas.core.frame.DataFrame'>\n",
            "Index: 5024 entries, 1375 to 147969\n",
            "Data columns (total 21 columns):\n",
            " #   Column                           Non-Null Count  Dtype \n",
            "---  ------                           --------------  ----- \n",
            " 0   School_Year                      5024 non-null   object\n",
            " 1   Busbreakdown_ID                  5024 non-null   int64 \n",
            " 2   Run_Type                         5024 non-null   object\n",
            " 3   Bus_No                           5024 non-null   object\n",
            " 4   Route_Number                     5024 non-null   object\n",
            " 5   Reason                           5024 non-null   object\n",
            " 6   Schools_Serviced                 5024 non-null   object\n",
            " 7   Occurred_On                      5024 non-null   object\n",
            " 8   Created_On                       5024 non-null   object\n",
            " 9   Boro                             5024 non-null   object\n",
            " 10  Bus_Company_Name                 5024 non-null   object\n",
            " 11  How_Long_Delayed                 5024 non-null   object\n",
            " 12  Number_Of_Students_On_The_Bus    5024 non-null   int64 \n",
            " 13  Has_Contractor_Notified_Schools  5024 non-null   object\n",
            " 14  Has_Contractor_Notified_Parents  5024 non-null   object\n",
            " 15  Have_You_Alerted_OPT             5024 non-null   object\n",
            " 16  Informed_On                      5024 non-null   object\n",
            " 17  Incident_Number                  5024 non-null   object\n",
            " 18  Last_Updated_On                  5024 non-null   object\n",
            " 19  Breakdown_or_Running_Late        5024 non-null   object\n",
            " 20  School_Age_or_PreK               5024 non-null   object\n",
            "dtypes: int64(2), object(19)\n",
            "memory usage: 863.5+ KB\n"
          ]
        }
      ]
    },
    {
      "cell_type": "markdown",
      "id": "1a559e40",
      "metadata": {
        "id": "1a559e40"
      },
      "source": [
        "## Data Preprocessing\n",
        "This could include:\n",
        "\n",
        "* **Handle Missing Values**\n",
        "    * Impute missing values or drop them.\n",
        "\n",
        "* **Encode Categorical Variables**\n",
        "    * One-hot encoding\n",
        "    * Label encoding\n",
        "\n",
        "* **Scale and Normalize Data**\n",
        "    * Standardization (Z-score)\n",
        "    * Min-Max scaling\n",
        "\n",
        "* **Feature Engineering**\n",
        "    * Create new features\n",
        "    * Feature selection\n",
        "\n",
        "* **Handle Imbalanced Data**\n",
        "    * Oversampling\n",
        "    * Undersampling\n",
        "\n",
        "* **Handle Outliers**\n",
        "    * Remove outliers\n",
        "    * Transform outliers\n",
        "\n",
        "* **Remove Duplicates**\n",
        "    * Remove redundant or duplicate data\n",
        "\n",
        "\n",
        "And add more as needed!\n",
        "\n",
        "Please treat these as suggestions. Feel free to use your judgment for the rest."
      ]
    },
    {
      "cell_type": "code",
      "execution_count": 256,
      "id": "e6867a7c",
      "metadata": {
        "colab": {
          "base_uri": "https://localhost:8080/"
        },
        "id": "e6867a7c",
        "outputId": "80a52903-16f0-4f15-db17-8e0ddd38023c"
      },
      "outputs": [
        {
          "output_type": "stream",
          "name": "stdout",
          "text": [
            "Unique values in 'School_Year':\n",
            "['2015-2016' '2016-2017' '2017-2018']\n",
            "\n",
            "Unique values in 'Busbreakdown_ID':\n",
            "[1225377 1216474 1226096 ... 1356198 1357686 1353044]\n",
            "\n",
            "Unique values in 'Run_Type':\n",
            "['Special Ed AM Run' 'Special Ed PM Run' 'General Ed AM Run'\n",
            " 'General Ed PM Run' 'General Ed Field Trip' 'Project Read PM Run'\n",
            " 'Project Read AM Run' 'Special Ed Field Trip']\n",
            "\n",
            "Unique values in 'Bus_No':\n",
            "['1296' '19340' 'GC0085' ... '60111' '1009' '1644']\n",
            "\n",
            "Unique values in 'Route_Number':\n",
            "['P615' 'M147' 'X979' ... 'X9669' 'X929' 'K9026']\n",
            "\n",
            "Unique values in 'Reason':\n",
            "['Accident' 'Other' 'Delayed by School' 'Heavy Traffic'\n",
            " 'Mechanical Problem' 'Flat Tire' 'Won`t Start' 'Weather Conditions'\n",
            " 'Late return from Field Trip' 'Problem Run']\n",
            "\n",
            "Unique values in 'Schools_Serviced':\n",
            "['25154' '02347' '07223' '13508,17316' '09462' '08420' '10475' '08498'\n",
            " '08464' '10046' '11674' '17289' '09163' '75419' '14380'\n",
            " '15628, 15689, 15704' '75407' '75955' '07004' '10444' '02751'\n",
            " '10037,10553' '05100' '75327' '10118' '11002,11016' '12084' '01450'\n",
            " '17005' '18366' '09505,12450' '75404' '32456,32384,32376' '12066' '02991'\n",
            " '07007' '07364' '11465' '07025' '03003,03825' '22001' '08524' '11657'\n",
            " '15628' '09035' '22152' '03001' '24721,' '04363' '27063,27202,27466'\n",
            " '20835' '75944' '10505,07151' '16040' '06319' '75615' '19202' '19346'\n",
            " '07475' '02001' '75436' '28472' '20164' '02003' '10081' '21225' '21911'\n",
            " '20069' '08093' '08101' '11012' '08530' '10306' '19466 \\t19528' '26266'\n",
            " '26186' '02793' '09073' '08069' '12150' '08014' '75412' '75666' '11415'\n",
            " '12486' '18002' '20685' '08410' '20865' '24077,24093' '26433,26490'\n",
            " '26433' '01003' '08146' '32151' '75810' '03475' '18235' '10003' '02566'\n",
            " '11021' '08048' '29116' '75887' '75550' '75914' '26481' '75910' '11455'\n",
            " '75907' '31065' '28402' '28447' '24687' '07002' '28086' '11561'\n",
            " '08101,08138,08375' '10485' '07454' '11949' '08454' '75003' '08489,11194'\n",
            " '11169' '08376' '09063,09132' '08366' '08487' '21736' '26186,26447'\n",
            " '08131' '75006' '75691' '75442' '11674,' '02568' '02909' '18068' '08036'\n",
            " '27043, 27490' '02622' '15879' '75960' '14126' '20186' '26187' '10280'\n",
            " '14023' '08349' '26266,26433' '29052,29445' '12129' '11514,11685' '14471'\n",
            " '26490,26806' '03003' '26490,26808' '10037' '03853' '13685' '08062'\n",
            " '07179' '26505,26993' '26490,  26808' '18208' '26187,26806' '17549'\n",
            " '29052,29445 ,' '10505' '10086' '10037,10368' '24077' '01616' '75437'\n",
            " '02654' '04486' '11494' '75470' '02911' '20470' '28449' '02667,' '043657'\n",
            " '07480' '12061' '11003' '75434' '20488' '02699' '04112' '21907' '03417,'\n",
            " '20727' '31435,31905' '03448,03455' '06353' '26443' '12419' '10095'\n",
            " '20859' '20865,20915' '08454,12217,' '24019' '26443,26447' '18002,18244'\n",
            " '20553,20865' '10037,10553,10368' '30145' '28160' '30460' '24488'\n",
            " '15879,20729' '05079' '20729' '10460,' '21735' '07030,07548,07162'\n",
            " '26806' '06143' '20415' '13067' '14147' '02436' '27445' '10505,10654'\n",
            " '06353,06716' '08123' '22725' '02310' '29443' '11519' '02872'\n",
            " '02116,02986' '08123,08375' '06462' '30442' '25765' '29405' '17221'\n",
            " '20176' '25460' '11505' '12467' '03407' '26505' '17862,17904' '30010'\n",
            " '14646' '28161' '03464' '08101,08413' '20470,20485' '17091' '17006,17249'\n",
            " '11096' '24075,26515' '07155' '02655' '26433,28449' '03417' '06717,'\n",
            " '20553' '02930' '29270,29283' '25022,25240' '12450' '09070' '12463'\n",
            " '75565' '18379' '27362' '19036' '16005' '21097' '14250' '22207' '10015'\n",
            " '75967' '32299' '20201' '19007' '19013' '28743' '11816' '28310' '75954'\n",
            " '13046, 13691' '24153' '08375' '24075,24434' '03669' '08100' '75716'\n",
            " '20869' '09555' '10032' '25025' '26133,26525' '09350,09551'\n",
            " '24687,  24721' '24088' '10023' '10020,10485' '26447' '21871' '07296'\n",
            " '10080' '26490' '21001' '29407' '10553' '11552' '22902' '06716' '30204,'\n",
            " '75908' '24009' '05161' '02744' '75717' '21010' '04050' '03841' '14157'\n",
            " '19356' '17397' '75627' '03054' '08489' '21199' '23396' '21423' '02035'\n",
            " '07794' '02380' '17316' '08901' '30017' '30541' '07208' '08367' '11180'\n",
            " '10368' '11083' '29134' '08140' '11106' '07434' '20884' '22740' '75720'\n",
            " '02019' '10307' '02033' '13301' '16457' '30523' '11189' '08152' '08072'\n",
            " '24343' '30150' '11688' '12196' '12466' '07005' '08202'\n",
            " '04171,04839,04898' '27043' '09361' '14471,15854' '31905,31435'\n",
            " '19466,19013,19460' '03864' '08075' '12047' '12242' '05514' '24434'\n",
            " '28040,28449' '30511' '28157' '08468' '28048' '26133' '12531' '20205'\n",
            " '28680' '10095,10351' '09109' '11041' '75912' '15879, 21894,' '04839'\n",
            " '20180,20410' '32075' '11127' '75958' '20685,21911' '14059' '12552'\n",
            " '12006' '02691' '02986' '29313' '02151' '10460,10684' '31080' '02789'\n",
            " '32456,32384,32376,32274' '13461' '11270' '02566,02990' '12195' '10442'\n",
            " '27065' '20048' '11416' '21001,21871' '11144' '10460' '02654,02721'\n",
            " '03861' '25130' '12095' '31905' '16035, 16457' '06436' '24075' '12937'\n",
            " '25165' '09505' '10264' '11001' '75009' '10458' '12050' '31415,31905'\n",
            " '31415' '27314' '24422' '27053' '09003' '28080' '30204,30443' '13507'\n",
            " '11105' '27223' '26186,26464' '10344' '08333' '08001' '28810' '27452'\n",
            " '75886' '13508' '04372' '32045' '02677' '09117' '75661' '20654' '03149'\n",
            " '20220' '10360' '13463' '10458,10884' '02004' '24721' '12251, 12937'\n",
            " '30901' '30451' '20062' '23298' '09058,09070' '10086,10307' '11255'\n",
            " '11097' '10024' '10420' '11121' '15411' '11514' '03163' '26817,26918'\n",
            " '30150,30469' '75871' '08516' '03408' '11407' '28612' '26918' '21453'\n",
            " '10334' '11016, 11742' '12463, 12937' '12212' '30166' '11543'\n",
            " '11097,11703' '30011,30445' '03075,03076,03165' '11096, 11556'\n",
            " '10003, 10009' '08444' '18114' '12061, 12190' '75420' '28080,29552'\n",
            " '16409' '21423,21465' '08452' '10118, 12420' '08093, 08519, 08069'\n",
            " '11105, 11083' '11106,11127' '27466' '10454' '11175' '11689' '12521'\n",
            " '29052' '07018' '08446, 08413' '08448, 08131, 08138' '09457' '10176'\n",
            " '19466' '24110' '24093' '21099' '18115' '09073, 09114' '26817' '02312'\n",
            " '09451,10396' '02158' '04657' '29270' '02632' '28008' '02698' '05154'\n",
            " '12438' '02032' '31649' '31699' '10377' '02169' '02444' '21281' '16588'\n",
            " '11068' '31970' '31048' '10884' '31461' '14459' '22286' '02131' '08004'\n",
            " '06311' '03448' '02131,02442' '04112,04112,04839' '06485' '10254'\n",
            " '12466, 12251' '03004' '31025' '15481' '24488,28220' '75628' '28908'\n",
            " '18433' '31490' '20500' '02667' '03480' '11476' '03480,03973' '25020'\n",
            " '17904' '04168' '05686' '06612' '75816' '75619' '02611' '75485'\n",
            " '13507,13669' '21239' '21572' '20415,20654' '11542' '21898,21724' '25169'\n",
            " '25802' '20835,21894' '15879,20685' '03487' '02531' '20446' '20443,20685'\n",
            " '02918' '07449' '20835,21895' '08518' '13462' '20205,20519' '20443'\n",
            " '02016, 02811' '21001,21871,21664' '28139' '11007' '08005' '21894,20835'\n",
            " '17241' '08413' '75480' '03008' '03896' '21002' '04745' '18279,18778'\n",
            " '07154' '02047' '27874' '18724' '10258' '20858' '20685,20443' '21894' '`'\n",
            " '12067, 12092, 12438' '13758' '03004,03658' '12067' '21442,21559' '28217'\n",
            " '24068' '12067, 12129, 12438' '13009,13492' '21001,21724'\n",
            " '12438, 12067, 12092' '10445' '02002' '10569' '20519,20205' '01867'\n",
            " '09055' '28144,28466' '25459' '09241' '75014' ',20685' '07359' '02116'\n",
            " '03579' '08130' '07029' '07587' '18066' '02983,02611'\n",
            " '16005,23522,16455,23155' '02983' '16005,16455,23155' '09028' '20535'\n",
            " '15032' '22490' '22234' '16021' '13003' '13587' '11910' '12251' '08448'\n",
            " '18673' '23150' '08100, 08107' '11076' '07006' '10007' '20858,20859'\n",
            " '07298' '21239,21281' '23522,16455,1605,23155' '21001,21894' '12511'\n",
            " '22809' '23522,16455,16005 ,23155' '02089' '07554' '02990' '11458'\n",
            " '11160' '17460' '21858' '08182' '15854' '02668' '08519' '10490'\n",
            " '14071,14680,14126' '16005,16455' '14680,14071' '16464 23522 16455 16005'\n",
            " '12447' '25029,25129' '21871,21001' '16464,23522 ,16455,16005'\n",
            " '14126 14071,' '03145' '28332' '14071' '21288' '146814071 ,14126'\n",
            " '17460,17525,17904' '11674, 11689, 11683' '10684' '17460,17904,17525'\n",
            " '11083, 11108' '11570' '75847' '20915' '17460,17460' '14680,14071,14126'\n",
            " '17460,17904' '02138' ',17904' '10059' '22004,22809' '14071,14680,'\n",
            " '02525' '11089' '10094' '09001' '10244' '21894 ,21010 ,21001'\n",
            " '08146, 08861' '09022' '21894,21010,21001' '09145' '04121' '14450'\n",
            " '23522 ,16455,16005' '21893' '20446,21907' '23165' '03084' '10020'\n",
            " '09009' '09199' '27090' '16489,16669' '20519' '24409' '15879,20685,'\n",
            " '10374' '02029' '11019' '26503' '30076' '27463' '03511' '26031' '13008'\n",
            " '11112' '16669' '08107' '11153' '32570' '24277' '07029, 07025' '16368'\n",
            " '02006' '15172' '08301' '24551' '15088, 15295, 15460, 15827' '28140'\n",
            " ',18279' '30002' '10122' '18002,18279' '10431' '18279' '13463.13669'\n",
            " '08100 , 08376' '07157' '10077' '07162' '19089' '07001'\n",
            " '14435,14120,14450' '13016' '09004' '07597' '16368,16669' '11005'\n",
            " '18279,18617' '01063' '30111' '20738' '03802,  03417,03407' '08320'\n",
            " '02563' '14120' '08716' '13307' '30424' '13133' '18402'\n",
            " '14435,14120 ,14435' '30008' '02028,02930' '12688' '14071,14680' '09402'\n",
            " '08100, 80376' '10141 , 10431' '02167' '10539' '09218' '16025,16460'\n",
            " '21907,21506' '27056' '21370' '31011' '14435,14450 14120' '21121,20519'\n",
            " '14120,14435 ,14450' '22193' '13669' '08348' '26094' '21001,21871,22193'\n",
            " '23137, 23396, 23471' '04403' '14120,14435,14450' '21871 ,22193'\n",
            " '14071,14680 ,14126' '04002' '14120,14467,14435,14450' '19793, 19356'\n",
            " '08119' '02036' '14435 ,14450' '21506,21907' '09415' '14465 ,14680'\n",
            " '20685 ,20865' '16669,16593' ',13669' '21871,' '07161' '17904,17460'\n",
            " '15010' '21907, 21506' '19002' '21370, 21436' '10024,10141' '05617'\n",
            " '30008,30076,30122,30171' '1666916368 ,16593' '75844' '16368,16669,16593'\n",
            " '03687,03853' '01003,01005' '14126,14680' '03853,03687' '16460, 16455'\n",
            " '31024' '21572 ,21907' '03853 ,03687' '15750' '22809,22795' '14435,14450'\n",
            " '12190' '01005' '22001,22461' '10008' '02655,02667,02908,02948' '13669 ('\n",
            " '03687' '31003' '28117' '20868' '17061' '10176 , 10081 , 10664' '01569'\n",
            " '10012' '02031,02872' '02003,02654' '17375' '17375,17904' '31464'\n",
            " '20884,21861' '20200,20229,20884' '18366,18364' '32384,32456'\n",
            " '08489,08375' '09490' '16368,1648916593,' '31415,31435' '13433,13461'\n",
            " '07014' '32384' '04672' '15628,15698,15704' '04050,04168' '07233' '11556'\n",
            " '21199, 21565, 21565' '31073 -31505' '21907, 21468' '18684'\n",
            " '13003, 13537, 13009' '75841' '12092' '17375,17460,17904' '25764'\n",
            " '14071,14680 14126' '03455' '31080,31464' '08062,08487,08130,08140'\n",
            " '08138' '02530' '12469' '02300' '11686' '31817' '10444,10646'\n",
            " '12211,   12450' '13282,13684' '02533' '17692' '10023, 10475' '30204'\n",
            " '12150, 12546' '12129, 12420' '02016' '14761,20535,21664' '30008,30008'\n",
            " '14196' '14120 ,14071' '21871,22193' '30070' '16455' '20738,21239'\n",
            " '20180,21850']\n",
            "\n",
            "Unique values in 'Occurred_On':\n",
            "['10/28/2015 06:25:00 AM' '09/21/2015 03:15:00 PM'\n",
            " '10/29/2015 07:39:00 AM' ... '06/07/2017 07:40:00 AM'\n",
            " '06/14/2017 06:47:00 AM' '05/25/2017 04:22:00 PM']\n",
            "\n",
            "Unique values in 'Created_On':\n",
            "['10/28/2015 06:31:00 AM' '09/21/2015 03:50:00 PM'\n",
            " '10/29/2015 08:05:00 AM' ... '06/07/2017 08:03:00 AM'\n",
            " '06/14/2017 06:48:00 AM' '05/25/2017 04:28:00 PM']\n",
            "\n",
            "Unique values in 'Boro':\n",
            "['Manhattan' 'Bronx' 'Brooklyn' 'Westchester' 'Queens' 'Nassau County'\n",
            " 'Connecticut' 'Rockland County' 'All Boroughs' 'Staten Island'\n",
            " 'New Jersey']\n",
            "\n",
            "Unique values in 'Bus_Company_Name':\n",
            "['ACME BUS CORP. (B2321)' 'BORO TRANSIT, INC.' 'G.V.C. LTD. (B2192)'\n",
            " 'JOFAZ TRANSPORTATION INC.' 'HOYT TRANSPORTATION CORP.'\n",
            " 'VAN TRANS LLC (B2192)' 'NEW DAWN TRANSIT, LLC (B2'\n",
            " 'PIONEER TRANSPORTATION CO' 'MAR-CAN TRANSPORT CO. INC'\n",
            " 'Y & M TRANSIT CORP (B2192' 'SNT BUS INC' 'BOBBY`S BUS CO. INC.'\n",
            " 'GRANDPA`S BUS CO., INC.' 'MONTAUK STUDENT TRANS, IN'\n",
            " 'CONSOLIDATED BUS TRANS. I' 'ALL COUNTY BUS LLC (B2321'\n",
            " 'CAREFUL BUS SERVICE INC (' 'PRIDE TRANSPORTATION (SCH'\n",
            " 'TWENTY FIRST AV TRANSP (B' 'LEESEL TRANSP CORP (B2192'\n",
            " 'MUTUAL BUS CORP. (B2192)' 'CAREFUL BUS' 'ALL AMERICAN SCHOOL BUS C'\n",
            " 'R & C TRANSIT, INC. (B232' 'B & F SKILLED INC.(B2192)'\n",
            " 'L & M BUS CORP. (B2321)' 'THOMAS BUSES, INC. (B2321'\n",
            " 'FIRST STEPS TRANSP INC. (' 'SAFE COACH INC. (B2321)'\n",
            " 'DON THOMAS BUSES, INC. (B' 'THOMAS BUSES INC (B2192)'\n",
            " 'L & M BUS CORP. (B2192)' 'MUTUAL BUS CORP. (B2321)'\n",
            " 'EMPIRE STATE BUS CORP.' 'CONSOLIDATED BUS TRANS. INC.'\n",
            " 'VINNY`S BUS SERVICES (B23' 'LOGAN TRANSPORTATION SYST'\n",
            " 'QUALITY TRANSPORTATION CO' 'VAN TRANS LLC'\n",
            " 'PRIDE TRANSPORTATION (SCH AGE)' 'MONTAUK STUDENT TRANS LLC'\n",
            " 'LITTLE RICHIE BUS SERVICE' 'SAFE COACH INC.']\n",
            "\n",
            "Unique values in 'How_Long_Delayed':\n",
            "['30Min' '45min' '20 min' '??????' '454 min' '40-50 MIN' '40 MIN' '1/2 hr'\n",
            " '45MINS' '40 mins' '20 minutes' '5 m' '15 minutes' '11' '45' '15-20'\n",
            " '45 minutes' '45-50 MIN' '1 HOUR' '30MNS' '21 min' '2hr' '60mn' '45 MINS'\n",
            " '20MNS' '20-25 min' '90 MIN' '1hr' '30 mins' '45 MIN' '20 mins' '1 hour'\n",
            " '1/2  HOUR' '20-35 MINS' '25MN' '20 MIN' 'unknown' '30 minutes' '25 MIN'\n",
            " '40-1HR' '45-1HR' '40 MINS' '20mins' '1 HR' '45 min' '10-15mints'\n",
            " '10 min' '10MIN' '15 mins' '35 min' '35 MIN' '30 MIN' '20' '30mins'\n",
            " '10 mins' '30 min' '30MIN' '30' '20mns' '20MIN' '15 MIN' '10minutes'\n",
            " '15mins' '20minutes' '30 MINUTES' '25 MINUTES' '20 mint' '50min'\n",
            " '10 mint' '35 MINUTES' '15 min' '10 minutes' '10MNS' '25mins' '45MIN'\n",
            " '45Mins' '20 MINUTES' '1HR' '40mins' '45 MINUTES' '25 mins' '15 mint'\n",
            " '30 minute' '1 hr' '25 mint' '20min' '30 MIN.' '25 minute' '15-20 MIN'\n",
            " '40MINS' '30 miins' '40 min' '10mns' '25 min' '60 MIN' '25' '20  mins'\n",
            " '60' '35mins' '15' '15MNS' '10' '35 mint' '60 minutes' '45 mins'\n",
            " '20 MINT' '?' '40MIN' '40 minutes' '30 mint' '60MIN' '45MNS' '25 MINS'\n",
            " '25-30' '10-15' '30 M' '40-45 MIN' '25 MINT' '10min' '50mins' '10 MIN'\n",
            " '12 MIN' '30MINS' '30min' '25 minutes' '25-30MIN' '25min' '15mns' '15-30'\n",
            " '45minutes' '10-15 min' '30 MINS' '156 mins' '20MINS' '1 HR 30 MI'\n",
            " '60 min' '15MIN' '5 mins' '45  min' '30mns' '10mins' '35 mins' '30M'\n",
            " '3 mins' '90 MINS' '40 miins' '7MIN' '45minTO 1H' '10 MINT' '8MIN'\n",
            " '25  mins' '8 mins' '8 mint' '5 min' '30 minute.' '10 MNS' '30 Mins' '??'\n",
            " '25MIN' '15-30 Mins' '45Min' '2 HOUR' '40 mint' '25 Min' '50' '40'\n",
            " '15 MINS' '10 MINUTES' '5 minutes' '30-40 MIN' '35-40' '20 Min' '35MIN'\n",
            " 'accident' '10MN' '30 Min' '2' '60 MINUTES' '15-20 mins' '15min' '5'\n",
            " '5MIN' '25MNS' '30-45' '20 minute' '5mins' '2 HRS' '60MN' '40min'\n",
            " '30-45 MINS' '15 MINUTES' '5 MINUTES' '60min' '50 mins' '30 min.'\n",
            " '20 minbute' '45mn' '2 mins' '10 mi' '1hour' '40-45 min' '2 HOURS'\n",
            " '45mins' '20 min.' '20 m inute' '60mins' '50-1HR' '20 Mins' '120 MIN'\n",
            " '????????' '35' '45MINS ?' '12min' '20 minute.' '45 - 60' '45mnts'\n",
            " '30-35 Mins' '45-1hr' '35-45 mins' '2 hr' '40-50 mins' '45-60 MINS'\n",
            " '15MINS' '30-40 min' '10MINS' '20 mins.' '5MINS' '35-40 min' '45-60 min'\n",
            " '10-15 mins' '10-15mins' '25 minute.' '50-60 mins' '?????' '90mins'\n",
            " '20 MINS' '15 minute.' 'TBD' '20-25mins' '30-40mins' '25-30mins' '45MNTS'\n",
            " '30-45min' '55mn' '1 hours' '15-20mins' '40mn' '30minutes' '15-25 mins'\n",
            " '25mnts' '40 MINUTES' '40-45 mins' '30-40 mins' '45-55' '35-40 mins'\n",
            " '30-45MINS' '40-60 mins' '12MIN' '20-25 mins' '60 mins' '45 mminute'\n",
            " '20-30 mins' '25-30 mins' '30 -40 MIN' '30-35MINS' '15-20MINS'\n",
            " '5-10 MINS' '10-15MINS' '25-30MINS' '5-10mins' '20/25 MIN' '10/15 MIN'\n",
            " '30mnts' '20-25MINS' '15/20 MIN' '15-20 MINS' '35-40 MINS' '35-40MINS'\n",
            " '35-45 MINS' '20-30 MIN' '35 minutes' '30/40 MIN' '20-35 MIN' '35-40 MIN'\n",
            " '40-45 MINS' '30-40MIN' '20-30MIN' '20-25 MIN' '25-30 MIN' '15-20MIN'\n",
            " '40/45 MIN' '40-45mins' '40-45MINS' '5-10MINS' '25/30 MIN' '1HOUR'\n",
            " '40-60mins' '???????' '15-20 min' '20-25MIN' '25:30MINS' '10-15MIN'\n",
            " '10-15 MIN' '10 MINS' '25MINS' '30/35 MIN' '20-25  min' '10-15 Mins'\n",
            " '20-25 Mins' '5/10MIN' '15-20MIns' '25-35 MINS' '25-30 MINS' '5-10 MIN'\n",
            " '30-35 MIN' '35 MINS' '20-30 MINS' '30mn' '????' '?????????' '60-120MINS'\n",
            " '45min-1hr' '30-40 mikn' '45 M' '30 - 40 MI' '30-40 MINS' '45mnt'\n",
            " '80 MINS' '1:30 min' '1 HOUR?' '20 mimutes']\n",
            "\n",
            "Unique values in 'Number_Of_Students_On_The_Bus':\n",
            "[   0    8    5    1   10   14    7    2    6    3   35    4    9   12\n",
            "   13   15   17   11   16   20   18   22   19   33   24   40 5718   29\n",
            "   25  280]\n",
            "\n",
            "Unique values in 'Has_Contractor_Notified_Schools':\n",
            "['Yes' 'No']\n",
            "\n",
            "Unique values in 'Has_Contractor_Notified_Parents':\n",
            "['Yes' 'No']\n",
            "\n",
            "Unique values in 'Have_You_Alerted_OPT':\n",
            "['Yes' 'No']\n",
            "\n",
            "Unique values in 'Informed_On':\n",
            "['10/28/2015 06:31:00 AM' '09/21/2015 03:50:00 PM'\n",
            " '10/29/2015 08:05:00 AM' ... '06/07/2017 08:03:00 AM'\n",
            " '06/14/2017 06:48:00 AM' '05/25/2017 04:28:00 PM']\n",
            "\n",
            "Unique values in 'Incident_Number':\n",
            "['2776550' '2737089' '2777814' ... '90330033' '90333015' '90323827']\n",
            "\n",
            "Unique values in 'Last_Updated_On':\n",
            "['10/28/2015 06:44:16 AM' '09/21/2015 03:50:10 PM'\n",
            " '10/29/2015 08:29:01 AM' ... '06/07/2017 10:42:37 AM'\n",
            " '06/14/2017 08:07:42 AM' '05/25/2017 04:34:36 PM']\n",
            "\n",
            "Unique values in 'Breakdown_or_Running_Late':\n",
            "['Running Late' 'Breakdown']\n",
            "\n",
            "Unique values in 'School_Age_or_PreK':\n",
            "['School-Age']\n",
            "\n"
          ]
        }
      ],
      "source": [
        "for column in df.columns:\n",
        "    unique_values = df[column].unique()\n",
        "    print(f\"Unique values in '{column}':\")\n",
        "    print(unique_values)\n",
        "    print()"
      ]
    },
    {
      "cell_type": "code",
      "source": [
        "df.info()"
      ],
      "metadata": {
        "colab": {
          "base_uri": "https://localhost:8080/"
        },
        "id": "oxk28Z1Wdmxw",
        "outputId": "189fce4e-3ccd-4109-f941-509546261963"
      },
      "id": "oxk28Z1Wdmxw",
      "execution_count": 257,
      "outputs": [
        {
          "output_type": "stream",
          "name": "stdout",
          "text": [
            "<class 'pandas.core.frame.DataFrame'>\n",
            "Index: 5024 entries, 1375 to 147969\n",
            "Data columns (total 21 columns):\n",
            " #   Column                           Non-Null Count  Dtype \n",
            "---  ------                           --------------  ----- \n",
            " 0   School_Year                      5024 non-null   object\n",
            " 1   Busbreakdown_ID                  5024 non-null   int64 \n",
            " 2   Run_Type                         5024 non-null   object\n",
            " 3   Bus_No                           5024 non-null   object\n",
            " 4   Route_Number                     5024 non-null   object\n",
            " 5   Reason                           5024 non-null   object\n",
            " 6   Schools_Serviced                 5024 non-null   object\n",
            " 7   Occurred_On                      5024 non-null   object\n",
            " 8   Created_On                       5024 non-null   object\n",
            " 9   Boro                             5024 non-null   object\n",
            " 10  Bus_Company_Name                 5024 non-null   object\n",
            " 11  How_Long_Delayed                 5024 non-null   object\n",
            " 12  Number_Of_Students_On_The_Bus    5024 non-null   int64 \n",
            " 13  Has_Contractor_Notified_Schools  5024 non-null   object\n",
            " 14  Has_Contractor_Notified_Parents  5024 non-null   object\n",
            " 15  Have_You_Alerted_OPT             5024 non-null   object\n",
            " 16  Informed_On                      5024 non-null   object\n",
            " 17  Incident_Number                  5024 non-null   object\n",
            " 18  Last_Updated_On                  5024 non-null   object\n",
            " 19  Breakdown_or_Running_Late        5024 non-null   object\n",
            " 20  School_Age_or_PreK               5024 non-null   object\n",
            "dtypes: int64(2), object(19)\n",
            "memory usage: 863.5+ KB\n"
          ]
        }
      ]
    },
    {
      "cell_type": "code",
      "source": [
        "df.columns"
      ],
      "metadata": {
        "colab": {
          "base_uri": "https://localhost:8080/"
        },
        "id": "i0BW2yVWdjTv",
        "outputId": "9a1d40bd-bf1f-44a9-f4f4-eab426c6b915"
      },
      "id": "i0BW2yVWdjTv",
      "execution_count": 258,
      "outputs": [
        {
          "output_type": "execute_result",
          "data": {
            "text/plain": [
              "Index(['School_Year', 'Busbreakdown_ID', 'Run_Type', 'Bus_No', 'Route_Number',\n",
              "       'Reason', 'Schools_Serviced', 'Occurred_On', 'Created_On', 'Boro',\n",
              "       'Bus_Company_Name', 'How_Long_Delayed', 'Number_Of_Students_On_The_Bus',\n",
              "       'Has_Contractor_Notified_Schools', 'Has_Contractor_Notified_Parents',\n",
              "       'Have_You_Alerted_OPT', 'Informed_On', 'Incident_Number',\n",
              "       'Last_Updated_On', 'Breakdown_or_Running_Late', 'School_Age_or_PreK'],\n",
              "      dtype='object')"
            ]
          },
          "metadata": {},
          "execution_count": 258
        }
      ]
    },
    {
      "cell_type": "code",
      "source": [
        "df.info()"
      ],
      "metadata": {
        "colab": {
          "base_uri": "https://localhost:8080/"
        },
        "id": "JAfiExbdlR3e",
        "outputId": "4da9e08a-4213-4481-dd11-169f57edb1d5"
      },
      "id": "JAfiExbdlR3e",
      "execution_count": 259,
      "outputs": [
        {
          "output_type": "stream",
          "name": "stdout",
          "text": [
            "<class 'pandas.core.frame.DataFrame'>\n",
            "Index: 5024 entries, 1375 to 147969\n",
            "Data columns (total 21 columns):\n",
            " #   Column                           Non-Null Count  Dtype \n",
            "---  ------                           --------------  ----- \n",
            " 0   School_Year                      5024 non-null   object\n",
            " 1   Busbreakdown_ID                  5024 non-null   int64 \n",
            " 2   Run_Type                         5024 non-null   object\n",
            " 3   Bus_No                           5024 non-null   object\n",
            " 4   Route_Number                     5024 non-null   object\n",
            " 5   Reason                           5024 non-null   object\n",
            " 6   Schools_Serviced                 5024 non-null   object\n",
            " 7   Occurred_On                      5024 non-null   object\n",
            " 8   Created_On                       5024 non-null   object\n",
            " 9   Boro                             5024 non-null   object\n",
            " 10  Bus_Company_Name                 5024 non-null   object\n",
            " 11  How_Long_Delayed                 5024 non-null   object\n",
            " 12  Number_Of_Students_On_The_Bus    5024 non-null   int64 \n",
            " 13  Has_Contractor_Notified_Schools  5024 non-null   object\n",
            " 14  Has_Contractor_Notified_Parents  5024 non-null   object\n",
            " 15  Have_You_Alerted_OPT             5024 non-null   object\n",
            " 16  Informed_On                      5024 non-null   object\n",
            " 17  Incident_Number                  5024 non-null   object\n",
            " 18  Last_Updated_On                  5024 non-null   object\n",
            " 19  Breakdown_or_Running_Late        5024 non-null   object\n",
            " 20  School_Age_or_PreK               5024 non-null   object\n",
            "dtypes: int64(2), object(19)\n",
            "memory usage: 863.5+ KB\n"
          ]
        }
      ]
    },
    {
      "cell_type": "code",
      "source": [
        "for col in ['School_Year', 'Run_Type', 'Bus_No', 'Route_Number',\n",
        "       'Reason', 'Schools_Serviced', 'Occurred_On', 'Created_On', 'Boro',\n",
        "       'Bus_Company_Name', 'How_Long_Delayed',\n",
        "       'Has_Contractor_Notified_Schools', 'Has_Contractor_Notified_Parents',\n",
        "       'Have_You_Alerted_OPT', 'Informed_On', 'Incident_Number',\n",
        "       'Last_Updated_On', 'Breakdown_or_Running_Late', 'School_Age_or_PreK']:\n",
        "    df[col] = LabelEncoder().fit_transform(df[col])"
      ],
      "metadata": {
        "id": "42uV_hCIdhfR"
      },
      "id": "42uV_hCIdhfR",
      "execution_count": 260,
      "outputs": []
    },
    {
      "cell_type": "code",
      "source": [
        "df.info()"
      ],
      "metadata": {
        "colab": {
          "base_uri": "https://localhost:8080/"
        },
        "id": "6vhPJ_6KdU41",
        "outputId": "84c631f7-87fa-4bbe-b995-768b43f66ebd"
      },
      "id": "6vhPJ_6KdU41",
      "execution_count": 261,
      "outputs": [
        {
          "output_type": "stream",
          "name": "stdout",
          "text": [
            "<class 'pandas.core.frame.DataFrame'>\n",
            "Index: 5024 entries, 1375 to 147969\n",
            "Data columns (total 21 columns):\n",
            " #   Column                           Non-Null Count  Dtype\n",
            "---  ------                           --------------  -----\n",
            " 0   School_Year                      5024 non-null   int64\n",
            " 1   Busbreakdown_ID                  5024 non-null   int64\n",
            " 2   Run_Type                         5024 non-null   int64\n",
            " 3   Bus_No                           5024 non-null   int64\n",
            " 4   Route_Number                     5024 non-null   int64\n",
            " 5   Reason                           5024 non-null   int64\n",
            " 6   Schools_Serviced                 5024 non-null   int64\n",
            " 7   Occurred_On                      5024 non-null   int64\n",
            " 8   Created_On                       5024 non-null   int64\n",
            " 9   Boro                             5024 non-null   int64\n",
            " 10  Bus_Company_Name                 5024 non-null   int64\n",
            " 11  How_Long_Delayed                 5024 non-null   int64\n",
            " 12  Number_Of_Students_On_The_Bus    5024 non-null   int64\n",
            " 13  Has_Contractor_Notified_Schools  5024 non-null   int64\n",
            " 14  Has_Contractor_Notified_Parents  5024 non-null   int64\n",
            " 15  Have_You_Alerted_OPT             5024 non-null   int64\n",
            " 16  Informed_On                      5024 non-null   int64\n",
            " 17  Incident_Number                  5024 non-null   int64\n",
            " 18  Last_Updated_On                  5024 non-null   int64\n",
            " 19  Breakdown_or_Running_Late        5024 non-null   int64\n",
            " 20  School_Age_or_PreK               5024 non-null   int64\n",
            "dtypes: int64(21)\n",
            "memory usage: 863.5 KB\n"
          ]
        }
      ]
    },
    {
      "cell_type": "code",
      "source": [
        "#columns=df.columns\n",
        "\n",
        "#for col in columns:\n",
        "#  Q1=df[col].quantile(0.25)\n",
        "#  Q3=df[col].quantile(0.75)\n",
        "#  IQR=Q3-Q1\n",
        "#  lb = Q1 - 1.5 * IQR\n",
        "#  ub = Q3 + 1.5 * IQR\n",
        "#  df = df[(df[col] >= lb) & (df[col] <= ub)]\n",
        "\n",
        "\n",
        "\n",
        "#deeting the outlaiers deleted the second catagoriy in the targeted data"
      ],
      "metadata": {
        "id": "Sue03HkFgEaW"
      },
      "id": "Sue03HkFgEaW",
      "execution_count": 262,
      "outputs": []
    },
    {
      "cell_type": "code",
      "source": [
        "df.shape"
      ],
      "metadata": {
        "colab": {
          "base_uri": "https://localhost:8080/"
        },
        "id": "M6LWsXnEgIIK",
        "outputId": "80472f2c-a3c9-43f6-c80e-d198198c0cdc"
      },
      "id": "M6LWsXnEgIIK",
      "execution_count": 263,
      "outputs": [
        {
          "output_type": "execute_result",
          "data": {
            "text/plain": [
              "(5024, 21)"
            ]
          },
          "metadata": {},
          "execution_count": 263
        }
      ]
    },
    {
      "cell_type": "code",
      "source": [
        "plt.figure(figsize=(20, 10))\n",
        "sns.boxplot(x=df['Number_Of_Students_On_The_Bus'])\n",
        "plt.title('Number_Of_Students_On_The_Bus')\n",
        "plt.show()"
      ],
      "metadata": {
        "colab": {
          "base_uri": "https://localhost:8080/",
          "height": 476
        },
        "id": "dEpViRh1dU9T",
        "outputId": "126d1db5-288c-47c6-8c9b-d4b1886beb0a"
      },
      "id": "dEpViRh1dU9T",
      "execution_count": 264,
      "outputs": [
        {
          "output_type": "display_data",
          "data": {
            "text/plain": [
              "<Figure size 2000x1000 with 1 Axes>"
            ],
            "image/png": "[encoded data removed]"
          },
          "metadata": {}
        }
      ]
    },
    {
      "cell_type": "code",
      "source": [],
      "metadata": {
        "id": "rgAs2_W0egrU"
      },
      "id": "rgAs2_W0egrU",
      "execution_count": 264,
      "outputs": []
    },
    {
      "cell_type": "markdown",
      "id": "bc887660",
      "metadata": {
        "id": "bc887660"
      },
      "source": [
        "## Split the Dataset\n",
        "Next, split the dataset into training, validation, and testing sets."
      ]
    },
    {
      "cell_type": "code",
      "execution_count": 265,
      "id": "fa5bbfd5",
      "metadata": {
        "id": "fa5bbfd5"
      },
      "outputs": [],
      "source": [
        "X=df.drop('Breakdown_or_Running_Late',axis=1)\n",
        "y=df['Breakdown_or_Running_Late']"
      ]
    },
    {
      "cell_type": "code",
      "source": [
        "y.unique()"
      ],
      "metadata": {
        "colab": {
          "base_uri": "https://localhost:8080/"
        },
        "id": "d9aUXWQ2glEV",
        "outputId": "e0b394a0-71ea-4ca5-8a67-513caf9cac86"
      },
      "id": "d9aUXWQ2glEV",
      "execution_count": 266,
      "outputs": [
        {
          "output_type": "execute_result",
          "data": {
            "text/plain": [
              "array([1, 0])"
            ]
          },
          "metadata": {},
          "execution_count": 266
        }
      ]
    },
    {
      "cell_type": "code",
      "source": [
        "plt.figure(figsize=(20, 10))\n",
        "sns.histplot(y)\n",
        "plt.xlabel('Breakdown_or_Running_Late')\n",
        "plt.title('Breakdown_or_Running_Late')\n",
        "plt.show()"
      ],
      "metadata": {
        "colab": {
          "base_uri": "https://localhost:8080/",
          "height": 464
        },
        "id": "NgsVx1rmgWE_",
        "outputId": "294433e6-998f-4a52-8500-21c7d81495e0"
      },
      "id": "NgsVx1rmgWE_",
      "execution_count": 267,
      "outputs": [
        {
          "output_type": "display_data",
          "data": {
            "text/plain": [
              "<Figure size 2000x1000 with 1 Axes>"
            ],
            "image/png": "[encoded data removed]"
          },
          "metadata": {}
        }
      ]
    },
    {
      "cell_type": "code",
      "source": [
        "y.shape"
      ],
      "metadata": {
        "colab": {
          "base_uri": "https://localhost:8080/"
        },
        "id": "No00kS5TgWHT",
        "outputId": "0659e7ea-a645-4a85-8db0-6f7721cfe7ad"
      },
      "id": "No00kS5TgWHT",
      "execution_count": 268,
      "outputs": [
        {
          "output_type": "execute_result",
          "data": {
            "text/plain": [
              "(5024,)"
            ]
          },
          "metadata": {},
          "execution_count": 268
        }
      ]
    },
    {
      "cell_type": "code",
      "source": [
        "X.shape"
      ],
      "metadata": {
        "colab": {
          "base_uri": "https://localhost:8080/"
        },
        "id": "XA4pGornhz-Z",
        "outputId": "dfa84265-84b0-4bed-bfda-06e397844bf4"
      },
      "id": "XA4pGornhz-Z",
      "execution_count": 269,
      "outputs": [
        {
          "output_type": "execute_result",
          "data": {
            "text/plain": [
              "(5024, 20)"
            ]
          },
          "metadata": {},
          "execution_count": 269
        }
      ]
    },
    {
      "cell_type": "code",
      "source": [
        "X.info()"
      ],
      "metadata": {
        "colab": {
          "base_uri": "https://localhost:8080/"
        },
        "id": "_HtbmtepnDZ9",
        "outputId": "86ed34f8-c556-43bd-8353-54d7bcb31a2b"
      },
      "id": "_HtbmtepnDZ9",
      "execution_count": 270,
      "outputs": [
        {
          "output_type": "stream",
          "name": "stdout",
          "text": [
            "<class 'pandas.core.frame.DataFrame'>\n",
            "Index: 5024 entries, 1375 to 147969\n",
            "Data columns (total 20 columns):\n",
            " #   Column                           Non-Null Count  Dtype\n",
            "---  ------                           --------------  -----\n",
            " 0   School_Year                      5024 non-null   int64\n",
            " 1   Busbreakdown_ID                  5024 non-null   int64\n",
            " 2   Run_Type                         5024 non-null   int64\n",
            " 3   Bus_No                           5024 non-null   int64\n",
            " 4   Route_Number                     5024 non-null   int64\n",
            " 5   Reason                           5024 non-null   int64\n",
            " 6   Schools_Serviced                 5024 non-null   int64\n",
            " 7   Occurred_On                      5024 non-null   int64\n",
            " 8   Created_On                       5024 non-null   int64\n",
            " 9   Boro                             5024 non-null   int64\n",
            " 10  Bus_Company_Name                 5024 non-null   int64\n",
            " 11  How_Long_Delayed                 5024 non-null   int64\n",
            " 12  Number_Of_Students_On_The_Bus    5024 non-null   int64\n",
            " 13  Has_Contractor_Notified_Schools  5024 non-null   int64\n",
            " 14  Has_Contractor_Notified_Parents  5024 non-null   int64\n",
            " 15  Have_You_Alerted_OPT             5024 non-null   int64\n",
            " 16  Informed_On                      5024 non-null   int64\n",
            " 17  Incident_Number                  5024 non-null   int64\n",
            " 18  Last_Updated_On                  5024 non-null   int64\n",
            " 19  School_Age_or_PreK               5024 non-null   int64\n",
            "dtypes: int64(20)\n",
            "memory usage: 824.2 KB\n"
          ]
        }
      ]
    },
    {
      "cell_type": "code",
      "source": [
        "\n",
        "\n",
        "scaler = StandardScaler()\n",
        "X_Scaled=scaler.fit_transform(X)\n",
        "X=pd.DataFrame(X,columns=X.columns)"
      ],
      "metadata": {
        "id": "FGFrZclEnYdl"
      },
      "id": "FGFrZclEnYdl",
      "execution_count": 287,
      "outputs": []
    },
    {
      "cell_type": "code",
      "source": [
        "\n",
        "unique_classes, counts = np.unique(y, return_counts=True)\n",
        "smallest_class_size = np.min(counts)\n",
        "\n",
        "k_neighbors = min(2, smallest_class_size - 1)\n",
        "smote = SMOTE(k_neighbors=k_neighbors)\n",
        "X, y = smote.fit_resample(X, y)"
      ],
      "metadata": {
        "id": "rrajUfK2gWJi"
      },
      "id": "rrajUfK2gWJi",
      "execution_count": 288,
      "outputs": []
    },
    {
      "cell_type": "code",
      "source": [
        "plt.figure(figsize=(20, 10))\n",
        "sns.histplot(y)\n",
        "plt.xlabel('Breakdown_or_Running_Late')\n",
        "plt.title('Breakdown_or_Running_Late')\n",
        "plt.show()"
      ],
      "metadata": {
        "colab": {
          "base_uri": "https://localhost:8080/",
          "height": 464
        },
        "id": "b31vayTmgWL6",
        "outputId": "f872fc72-08be-42df-8488-d070a986b005"
      },
      "id": "b31vayTmgWL6",
      "execution_count": 289,
      "outputs": [
        {
          "output_type": "display_data",
          "data": {
            "text/plain": [
              "<Figure size 2000x1000 with 1 Axes>"
            ],
            "image/png": "[encoded data removed]"
          },
          "metadata": {}
        }
      ]
    },
    {
      "cell_type": "code",
      "source": [
        "y.shape"
      ],
      "metadata": {
        "colab": {
          "base_uri": "https://localhost:8080/"
        },
        "id": "fUaK02LRgWOj",
        "outputId": "061091a5-2ce7-4d38-f6e4-abedc579f6cb"
      },
      "id": "fUaK02LRgWOj",
      "execution_count": 290,
      "outputs": [
        {
          "output_type": "execute_result",
          "data": {
            "text/plain": [
              "(10044,)"
            ]
          },
          "metadata": {},
          "execution_count": 290
        }
      ]
    },
    {
      "cell_type": "code",
      "source": [
        "X.shape"
      ],
      "metadata": {
        "colab": {
          "base_uri": "https://localhost:8080/"
        },
        "id": "cxQYvGGMiH4M",
        "outputId": "0229fd27-05ae-49d2-c07b-86ff46421b6c"
      },
      "id": "cxQYvGGMiH4M",
      "execution_count": 291,
      "outputs": [
        {
          "output_type": "execute_result",
          "data": {
            "text/plain": [
              "(10044, 20)"
            ]
          },
          "metadata": {},
          "execution_count": 291
        }
      ]
    },
    {
      "cell_type": "code",
      "source": [
        "X.head()"
      ],
      "metadata": {
        "colab": {
          "base_uri": "https://localhost:8080/",
          "height": 226
        },
        "id": "f_oQf7qRjx8D",
        "outputId": "98baae3a-87a4-46eb-8864-aa373b1eb0bc"
      },
      "id": "f_oQf7qRjx8D",
      "execution_count": 292,
      "outputs": [
        {
          "output_type": "execute_result",
          "data": {
            "text/plain": [
              "   School_Year  Busbreakdown_ID  Run_Type  Bus_No  Route_Number  Reason  \\\n",
              "0            0          1225377         5     209           473       0   \n",
              "1            0          1216474         7     407           258       0   \n",
              "2            0          1226096         5     905          1126       0   \n",
              "3            0          1226288         0     637            56       0   \n",
              "4            0          1213115         5      34          1067       0   \n",
              "\n",
              "   Schools_Serviced  Occurred_On  Created_On  Boro  Bus_Company_Name  \\\n",
              "0               760         4254        4387     4                 0   \n",
              "1                42         4015        4143     4                 5   \n",
              "2               173         4266        4400     1                13   \n",
              "3               478         4268        4401     2                16   \n",
              "4               280         3941        4067     1                15   \n",
              "\n",
              "   How_Long_Delayed  Number_Of_Students_On_The_Bus  \\\n",
              "0               195                              0   \n",
              "1               271                              8   \n",
              "2                93                              5   \n",
              "3               324                              8   \n",
              "4               263                              1   \n",
              "\n",
              "   Has_Contractor_Notified_Schools  Has_Contractor_Notified_Parents  \\\n",
              "0                                1                                1   \n",
              "1                                1                                1   \n",
              "2                                1                                0   \n",
              "3                                1                                1   \n",
              "4                                1                                1   \n",
              "\n",
              "   Have_You_Alerted_OPT  Informed_On  Incident_Number  Last_Updated_On  \\\n",
              "0                     1         4387               29             4535   \n",
              "1                     1         4143                8             4289   \n",
              "2                     1         4400               30             4547   \n",
              "3                     1         4401               32             4549   \n",
              "4                     1         4067                5             4213   \n",
              "\n",
              "   School_Age_or_PreK  \n",
              "0                   0  \n",
              "1                   0  \n",
              "2                   0  \n",
              "3                   0  \n",
              "4                   0  "
            ],
            "text/html": [
              "\n",
              "  <div id=\"df-9b65a276-4279-446b-98df-a8591ca10017\" class=\"colab-df-container\">\n",
              "    <div>\n",
              "<style scoped>\n",
              "    .dataframe tbody tr th:only-of-type {\n",
              "        vertical-align: middle;\n",
              "    }\n",
              "\n",
              "    .dataframe tbody tr th {\n",
              "        vertical-align: top;\n",
              "    }\n",
              "\n",
              "    .dataframe thead th {\n",
              "        text-align: right;\n",
              "    }\n",
              "</style>\n",
              "<table border=\"1\" class=\"dataframe\">\n",
              "  <thead>\n",
              "    <tr style=\"text-align: right;\">\n",
              "      <th></th>\n",
              "      <th>School_Year</th>\n",
              "      <th>Busbreakdown_ID</th>\n",
              "      <th>Run_Type</th>\n",
              "      <th>Bus_No</th>\n",
              "      <th>Route_Number</th>\n",
              "      <th>Reason</th>\n",
              "      <th>Schools_Serviced</th>\n",
              "      <th>Occurred_On</th>\n",
              "      <th>Created_On</th>\n",
              "      <th>Boro</th>\n",
              "      <th>Bus_Company_Name</th>\n",
              "      <th>How_Long_Delayed</th>\n",
              "      <th>Number_Of_Students_On_The_Bus</th>\n",
              "      <th>Has_Contractor_Notified_Schools</th>\n",
              "      <th>Has_Contractor_Notified_Parents</th>\n",
              "      <th>Have_You_Alerted_OPT</th>\n",
              "      <th>Informed_On</th>\n",
              "      <th>Incident_Number</th>\n",
              "      <th>Last_Updated_On</th>\n",
              "      <th>School_Age_or_PreK</th>\n",
              "    </tr>\n",
              "  </thead>\n",
              "  <tbody>\n",
              "    <tr>\n",
              "      <th>0</th>\n",
              "      <td>0</td>\n",
              "      <td>1225377</td>\n",
              "      <td>5</td>\n",
              "      <td>209</td>\n",
              "      <td>473</td>\n",
              "      <td>0</td>\n",
              "      <td>760</td>\n",
              "      <td>4254</td>\n",
              "      <td>4387</td>\n",
              "      <td>4</td>\n",
              "      <td>0</td>\n",
              "      <td>195</td>\n",
              "      <td>0</td>\n",
              "      <td>1</td>\n",
              "      <td>1</td>\n",
              "      <td>1</td>\n",
              "      <td>4387</td>\n",
              "      <td>29</td>\n",
              "      <td>4535</td>\n",
              "      <td>0</td>\n",
              "    </tr>\n",
              "    <tr>\n",
              "      <th>1</th>\n",
              "      <td>0</td>\n",
              "      <td>1216474</td>\n",
              "      <td>7</td>\n",
              "      <td>407</td>\n",
              "      <td>258</td>\n",
              "      <td>0</td>\n",
              "      <td>42</td>\n",
              "      <td>4015</td>\n",
              "      <td>4143</td>\n",
              "      <td>4</td>\n",
              "      <td>5</td>\n",
              "      <td>271</td>\n",
              "      <td>8</td>\n",
              "      <td>1</td>\n",
              "      <td>1</td>\n",
              "      <td>1</td>\n",
              "      <td>4143</td>\n",
              "      <td>8</td>\n",
              "      <td>4289</td>\n",
              "      <td>0</td>\n",
              "    </tr>\n",
              "    <tr>\n",
              "      <th>2</th>\n",
              "      <td>0</td>\n",
              "      <td>1226096</td>\n",
              "      <td>5</td>\n",
              "      <td>905</td>\n",
              "      <td>1126</td>\n",
              "      <td>0</td>\n",
              "      <td>173</td>\n",
              "      <td>4266</td>\n",
              "      <td>4400</td>\n",
              "      <td>1</td>\n",
              "      <td>13</td>\n",
              "      <td>93</td>\n",
              "      <td>5</td>\n",
              "      <td>1</td>\n",
              "      <td>0</td>\n",
              "      <td>1</td>\n",
              "      <td>4400</td>\n",
              "      <td>30</td>\n",
              "      <td>4547</td>\n",
              "      <td>0</td>\n",
              "    </tr>\n",
              "    <tr>\n",
              "      <th>3</th>\n",
              "      <td>0</td>\n",
              "      <td>1226288</td>\n",
              "      <td>0</td>\n",
              "      <td>637</td>\n",
              "      <td>56</td>\n",
              "      <td>0</td>\n",
              "      <td>478</td>\n",
              "      <td>4268</td>\n",
              "      <td>4401</td>\n",
              "      <td>2</td>\n",
              "      <td>16</td>\n",
              "      <td>324</td>\n",
              "      <td>8</td>\n",
              "      <td>1</td>\n",
              "      <td>1</td>\n",
              "      <td>1</td>\n",
              "      <td>4401</td>\n",
              "      <td>32</td>\n",
              "      <td>4549</td>\n",
              "      <td>0</td>\n",
              "    </tr>\n",
              "    <tr>\n",
              "      <th>4</th>\n",
              "      <td>0</td>\n",
              "      <td>1213115</td>\n",
              "      <td>5</td>\n",
              "      <td>34</td>\n",
              "      <td>1067</td>\n",
              "      <td>0</td>\n",
              "      <td>280</td>\n",
              "      <td>3941</td>\n",
              "      <td>4067</td>\n",
              "      <td>1</td>\n",
              "      <td>15</td>\n",
              "      <td>263</td>\n",
              "      <td>1</td>\n",
              "      <td>1</td>\n",
              "      <td>1</td>\n",
              "      <td>1</td>\n",
              "      <td>4067</td>\n",
              "      <td>5</td>\n",
              "      <td>4213</td>\n",
              "      <td>0</td>\n",
              "    </tr>\n",
              "  </tbody>\n",
              "</table>\n",
              "</div>\n",
              "    <div class=\"colab-df-buttons\">\n",
              "\n",
              "  <div class=\"colab-df-container\">\n",
              "    <button class=\"colab-df-convert\" onclick=\"convertToInteractive('df-9b65a276-4279-446b-98df-a8591ca10017')\"\n",
              "            title=\"Convert this dataframe to an interactive table.\"\n",
              "            style=\"display:none;\">\n",
              "\n",
              "  <svg xmlns=\"http://www.w3.org/2000/svg\" height=\"24px\" viewBox=\"0 -960 960 960\">\n",
              "    <path d=\"M120-120v-720h720v720H120Zm60-500h600v-160H180v160Zm220 220h160v-160H400v160Zm0 220h160v-160H400v160ZM180-400h160v-160H180v160Zm440 0h160v-160H620v160ZM180-180h160v-160H180v160Zm440 0h160v-160H620v160Z\"/>\n",
              "  </svg>\n",
              "    </button>\n",
              "\n",
              "  <style>\n",
              "    .colab-df-container {\n",
              "      display:flex;\n",
              "      gap: 12px;\n",
              "    }\n",
              "\n",
              "    .colab-df-convert {\n",
              "      background-color: #E8F0FE;\n",
              "      border: none;\n",
              "      border-radius: 50%;\n",
              "      cursor: pointer;\n",
              "      display: none;\n",
              "      fill: #1967D2;\n",
              "      height: 32px;\n",
              "      padding: 0 0 0 0;\n",
              "      width: 32px;\n",
              "    }\n",
              "\n",
              "    .colab-df-convert:hover {\n",
              "      background-color: #E2EBFA;\n",
              "      box-shadow: 0px 1px 2px rgba(60, 64, 67, 0.3), 0px 1px 3px 1px rgba(60, 64, 67, 0.15);\n",
              "      fill: #174EA6;\n",
              "    }\n",
              "\n",
              "    .colab-df-buttons div {\n",
              "      margin-bottom: 4px;\n",
              "    }\n",
              "\n",
              "    [theme=dark] .colab-df-convert {\n",
              "      background-color: #3B4455;\n",
              "      fill: #D2E3FC;\n",
              "    }\n",
              "\n",
              "    [theme=dark] .colab-df-convert:hover {\n",
              "      background-color: #434B5C;\n",
              "      box-shadow: 0px 1px 3px 1px rgba(0, 0, 0, 0.15);\n",
              "      filter: drop-shadow(0px 1px 2px rgba(0, 0, 0, 0.3));\n",
              "      fill: #FFFFFF;\n",
              "    }\n",
              "  </style>\n",
              "\n",
              "    <script>\n",
              "      const buttonEl =\n",
              "        document.querySelector('#df-9b65a276-4279-446b-98df-a8591ca10017 button.colab-df-convert');\n",
              "      buttonEl.style.display =\n",
              "        google.colab.kernel.accessAllowed ? 'block' : 'none';\n",
              "\n",
              "      async function convertToInteractive(key) {\n",
              "        const element = document.querySelector('#df-9b65a276-4279-446b-98df-a8591ca10017');\n",
              "        const dataTable =\n",
              "          await google.colab.kernel.invokeFunction('convertToInteractive',\n",
              "                                                    [key], {});\n",
              "        if (!dataTable) return;\n",
              "\n",
              "        const docLinkHtml = 'Like what you see? Visit the ' +\n",
              "          '<a target=\"_blank\" href=https://colab.research.google.com/notebooks/data_table.ipynb>data table notebook</a>'\n",
              "          + ' to learn more about interactive tables.';\n",
              "        element.innerHTML = '';\n",
              "        dataTable['output_type'] = 'display_data';\n",
              "        await google.colab.output.renderOutput(dataTable, element);\n",
              "        const docLink = document.createElement('div');\n",
              "        docLink.innerHTML = docLinkHtml;\n",
              "        element.appendChild(docLink);\n",
              "      }\n",
              "    </script>\n",
              "  </div>\n",
              "\n",
              "\n",
              "<div id=\"df-29f8f72f-1a39-4916-96d7-c89eaa946757\">\n",
              "  <button class=\"colab-df-quickchart\" onclick=\"quickchart('df-29f8f72f-1a39-4916-96d7-c89eaa946757')\"\n",
              "            title=\"Suggest charts\"\n",
              "            style=\"display:none;\">\n",
              "\n",
              "<svg xmlns=\"http://www.w3.org/2000/svg\" height=\"24px\"viewBox=\"0 0 24 24\"\n",
              "     width=\"24px\">\n",
              "    <g>\n",
              "        <path d=\"M19 3H5c-1.1 0-2 .9-2 2v14c0 1.1.9 2 2 2h14c1.1 0 2-.9 2-2V5c0-1.1-.9-2-2-2zM9 17H7v-7h2v7zm4 0h-2V7h2v10zm4 0h-2v-4h2v4z\"/>\n",
              "    </g>\n",
              "</svg>\n",
              "  </button>\n",
              "\n",
              "<style>\n",
              "  .colab-df-quickchart {\n",
              "      --bg-color: #E8F0FE;\n",
              "      --fill-color: #1967D2;\n",
              "      --hover-bg-color: #E2EBFA;\n",
              "      --hover-fill-color: #174EA6;\n",
              "      --disabled-fill-color: #AAA;\n",
              "      --disabled-bg-color: #DDD;\n",
              "  }\n",
              "\n",
              "  [theme=dark] .colab-df-quickchart {\n",
              "      --bg-color: #3B4455;\n",
              "      --fill-color: #D2E3FC;\n",
              "      --hover-bg-color: #434B5C;\n",
              "      --hover-fill-color: #FFFFFF;\n",
              "      --disabled-bg-color: #3B4455;\n",
              "      --disabled-fill-color: #666;\n",
              "  }\n",
              "\n",
              "  .colab-df-quickchart {\n",
              "    background-color: var(--bg-color);\n",
              "    border: none;\n",
              "    border-radius: 50%;\n",
              "    cursor: pointer;\n",
              "    display: none;\n",
              "    fill: var(--fill-color);\n",
              "    height: 32px;\n",
              "    padding: 0;\n",
              "    width: 32px;\n",
              "  }\n",
              "\n",
              "  .colab-df-quickchart:hover {\n",
              "    background-color: var(--hover-bg-color);\n",
              "    box-shadow: 0 1px 2px rgba(60, 64, 67, 0.3), 0 1px 3px 1px rgba(60, 64, 67, 0.15);\n",
              "    fill: var(--button-hover-fill-color);\n",
              "  }\n",
              "\n",
              "  .colab-df-quickchart-complete:disabled,\n",
              "  .colab-df-quickchart-complete:disabled:hover {\n",
              "    background-color: var(--disabled-bg-color);\n",
              "    fill: var(--disabled-fill-color);\n",
              "    box-shadow: none;\n",
              "  }\n",
              "\n",
              "  .colab-df-spinner {\n",
              "    border: 2px solid var(--fill-color);\n",
              "    border-color: transparent;\n",
              "    border-bottom-color: var(--fill-color);\n",
              "    animation:\n",
              "      spin 1s steps(1) infinite;\n",
              "  }\n",
              "\n",
              "  @keyframes spin {\n",
              "    0% {\n",
              "      border-color: transparent;\n",
              "      border-bottom-color: var(--fill-color);\n",
              "      border-left-color: var(--fill-color);\n",
              "    }\n",
              "    20% {\n",
              "      border-color: transparent;\n",
              "      border-left-color: var(--fill-color);\n",
              "      border-top-color: var(--fill-color);\n",
              "    }\n",
              "    30% {\n",
              "      border-color: transparent;\n",
              "      border-left-color: var(--fill-color);\n",
              "      border-top-color: var(--fill-color);\n",
              "      border-right-color: var(--fill-color);\n",
              "    }\n",
              "    40% {\n",
              "      border-color: transparent;\n",
              "      border-right-color: var(--fill-color);\n",
              "      border-top-color: var(--fill-color);\n",
              "    }\n",
              "    60% {\n",
              "      border-color: transparent;\n",
              "      border-right-color: var(--fill-color);\n",
              "    }\n",
              "    80% {\n",
              "      border-color: transparent;\n",
              "      border-right-color: var(--fill-color);\n",
              "      border-bottom-color: var(--fill-color);\n",
              "    }\n",
              "    90% {\n",
              "      border-color: transparent;\n",
              "      border-bottom-color: var(--fill-color);\n",
              "    }\n",
              "  }\n",
              "</style>\n",
              "\n",
              "  <script>\n",
              "    async function quickchart(key) {\n",
              "      const quickchartButtonEl =\n",
              "        document.querySelector('#' + key + ' button');\n",
              "      quickchartButtonEl.disabled = true;  // To prevent multiple clicks.\n",
              "      quickchartButtonEl.classList.add('colab-df-spinner');\n",
              "      try {\n",
              "        const charts = await google.colab.kernel.invokeFunction(\n",
              "            'suggestCharts', [key], {});\n",
              "      } catch (error) {\n",
              "        console.error('Error during call to suggestCharts:', error);\n",
              "      }\n",
              "      quickchartButtonEl.classList.remove('colab-df-spinner');\n",
              "      quickchartButtonEl.classList.add('colab-df-quickchart-complete');\n",
              "    }\n",
              "    (() => {\n",
              "      let quickchartButtonEl =\n",
              "        document.querySelector('#df-29f8f72f-1a39-4916-96d7-c89eaa946757 button');\n",
              "      quickchartButtonEl.style.display =\n",
              "        google.colab.kernel.accessAllowed ? 'block' : 'none';\n",
              "    })();\n",
              "  </script>\n",
              "</div>\n",
              "\n",
              "    </div>\n",
              "  </div>\n"
            ],
            "application/vnd.google.colaboratory.intrinsic+json": {
              "type": "dataframe",
              "variable_name": "X",
              "summary": "{\n  \"name\": \"X\",\n  \"rows\": 10044,\n  \"fields\": [\n    {\n      \"column\": \"School_Year\",\n      \"properties\": {\n        \"dtype\": \"number\",\n        \"std\": 0,\n        \"min\": 0,\n        \"max\": 2,\n        \"num_unique_values\": 3,\n        \"samples\": [\n          0,\n          1,\n          2\n        ],\n        \"semantic_type\": \"\",\n        \"description\": \"\"\n      }\n    },\n    {\n      \"column\": \"Busbreakdown_ID\",\n      \"properties\": {\n        \"dtype\": \"number\",\n        \"std\": 27445,\n        \"min\": 1213115,\n        \"max\": 1362524,\n        \"num_unique_values\": 9137,\n        \"samples\": [\n          1281413,\n          1306878,\n          1331089\n        ],\n        \"semantic_type\": \"\",\n        \"description\": \"\"\n      }\n    },\n    {\n      \"column\": \"Run_Type\",\n      \"properties\": {\n        \"dtype\": \"number\",\n        \"std\": 0,\n        \"min\": 0,\n        \"max\": 7,\n        \"num_unique_values\": 8,\n        \"samples\": [\n          7,\n          4,\n          5\n        ],\n        \"semantic_type\": \"\",\n        \"description\": \"\"\n      }\n    },\n    {\n      \"column\": \"Bus_No\",\n      \"properties\": {\n        \"dtype\": \"number\",\n        \"std\": 333,\n        \"min\": 0,\n        \"max\": 1218,\n        \"num_unique_values\": 1219,\n        \"samples\": [\n          257,\n          716,\n          889\n        ],\n        \"semantic_type\": \"\",\n        \"description\": \"\"\n      }\n    },\n    {\n      \"column\": \"Route_Number\",\n      \"properties\": {\n        \"dtype\": \"number\",\n        \"std\": 324,\n        \"min\": 0,\n        \"max\": 1166,\n        \"num_unique_values\": 1167,\n        \"samples\": [\n          434,\n          674,\n          666\n        ],\n        \"semantic_type\": \"\",\n        \"description\": \"\"\n      }\n    },\n    {\n      \"column\": \"Reason\",\n      \"properties\": {\n        \"dtype\": \"number\",\n        \"std\": 1,\n        \"min\": 0,\n        \"max\": 9,\n        \"num_unique_values\": 10,\n        \"samples\": [\n          4,\n          6,\n          2\n        ],\n        \"semantic_type\": \"\",\n        \"description\": \"\"\n      }\n    },\n    {\n      \"column\": \"Schools_Serviced\",\n      \"properties\": {\n        \"dtype\": \"number\",\n        \"std\": 239,\n        \"min\": 0,\n        \"max\": 952,\n        \"num_unique_values\": 953,\n        \"samples\": [\n          310,\n          380,\n          184\n        ],\n        \"semantic_type\": \"\",\n        \"description\": \"\"\n      }\n    },\n    {\n      \"column\": \"Occurred_On\",\n      \"properties\": {\n        \"dtype\": \"number\",\n        \"std\": 1316,\n        \"min\": 0,\n        \"max\": 4714,\n        \"num_unique_values\": 4715,\n        \"samples\": [\n          2159,\n          3780,\n          1474\n        ],\n        \"semantic_type\": \"\",\n        \"description\": \"\"\n      }\n    },\n    {\n      \"column\": \"Created_On\",\n      \"properties\": {\n        \"dtype\": \"number\",\n        \"std\": 1356,\n        \"min\": 0,\n        \"max\": 4861,\n        \"num_unique_values\": 4862,\n        \"samples\": [\n          4012,\n          987,\n          4518\n        ],\n        \"semantic_type\": \"\",\n        \"description\": \"\"\n      }\n    },\n    {\n      \"column\": \"Boro\",\n      \"properties\": {\n        \"dtype\": \"number\",\n        \"std\": 1,\n        \"min\": 0,\n        \"max\": 10,\n        \"num_unique_values\": 11,\n        \"samples\": [\n          5,\n          4,\n          9\n        ],\n        \"semantic_type\": \"\",\n        \"description\": \"\"\n      }\n    },\n    {\n      \"column\": \"Bus_Company_Name\",\n      \"properties\": {\n        \"dtype\": \"number\",\n        \"std\": 15,\n        \"min\": 0,\n        \"max\": 42,\n        \"num_unique_values\": 43,\n        \"samples\": [\n          31,\n          3,\n          18\n        ],\n        \"semantic_type\": \"\",\n        \"description\": \"\"\n      }\n    },\n    {\n      \"column\": \"How_Long_Delayed\",\n      \"properties\": {\n        \"dtype\": \"number\",\n        \"std\": 61,\n        \"min\": 0,\n        \"max\": 330,\n        \"num_unique_values\": 331,\n        \"samples\": [\n          105,\n          22,\n          153\n        ],\n        \"semantic_type\": \"\",\n        \"description\": \"\"\n      }\n    },\n    {\n      \"column\": \"Number_Of_Students_On_The_Bus\",\n      \"properties\": {\n        \"dtype\": \"number\",\n        \"std\": 57,\n        \"min\": 0,\n        \"max\": 5718,\n        \"num_unique_values\": 30,\n        \"samples\": [\n          29,\n          15,\n          33\n        ],\n        \"semantic_type\": \"\",\n        \"description\": \"\"\n      }\n    },\n    {\n      \"column\": \"Has_Contractor_Notified_Schools\",\n      \"properties\": {\n        \"dtype\": \"number\",\n        \"std\": 0,\n        \"min\": 0,\n        \"max\": 1,\n        \"num_unique_values\": 2,\n        \"samples\": [\n          0,\n          1\n        ],\n        \"semantic_type\": \"\",\n        \"description\": \"\"\n      }\n    },\n    {\n      \"column\": \"Has_Contractor_Notified_Parents\",\n      \"properties\": {\n        \"dtype\": \"number\",\n        \"std\": 0,\n        \"min\": 0,\n        \"max\": 1,\n        \"num_unique_values\": 2,\n        \"samples\": [\n          0,\n          1\n        ],\n        \"semantic_type\": \"\",\n        \"description\": \"\"\n      }\n    },\n    {\n      \"column\": \"Have_You_Alerted_OPT\",\n      \"properties\": {\n        \"dtype\": \"number\",\n        \"std\": 0,\n        \"min\": 0,\n        \"max\": 1,\n        \"num_unique_values\": 2,\n        \"samples\": [\n          0,\n          1\n        ],\n        \"semantic_type\": \"\",\n        \"description\": \"\"\n      }\n    },\n    {\n      \"column\": \"Informed_On\",\n      \"properties\": {\n        \"dtype\": \"number\",\n        \"std\": 1356,\n        \"min\": 0,\n        \"max\": 4861,\n        \"num_unique_values\": 4862,\n        \"samples\": [\n          4012,\n          987\n        ],\n        \"semantic_type\": \"\",\n        \"description\": \"\"\n      }\n    },\n    {\n      \"column\": \"Incident_Number\",\n      \"properties\": {\n        \"dtype\": \"number\",\n        \"std\": 908,\n        \"min\": 0,\n        \"max\": 4081,\n        \"num_unique_values\": 4082,\n        \"samples\": [\n          641,\n          795\n        ],\n        \"semantic_type\": \"\",\n        \"description\": \"\"\n      }\n    },\n    {\n      \"column\": \"Last_Updated_On\",\n      \"properties\": {\n        \"dtype\": \"number\",\n        \"std\": 1406,\n        \"min\": 0,\n        \"max\": 5021,\n        \"num_unique_values\": 5022,\n        \"samples\": [\n          2793,\n          885\n        ],\n        \"semantic_type\": \"\",\n        \"description\": \"\"\n      }\n    },\n    {\n      \"column\": \"School_Age_or_PreK\",\n      \"properties\": {\n        \"dtype\": \"number\",\n        \"std\": 0,\n        \"min\": 0,\n        \"max\": 0,\n        \"num_unique_values\": 1,\n        \"samples\": [\n          0\n        ],\n        \"semantic_type\": \"\",\n        \"description\": \"\"\n      }\n    }\n  ]\n}"
            }
          },
          "metadata": {},
          "execution_count": 292
        }
      ]
    },
    {
      "cell_type": "code",
      "source": [
        "X.info()"
      ],
      "metadata": {
        "colab": {
          "base_uri": "https://localhost:8080/"
        },
        "id": "aRCRHmysj20W",
        "outputId": "3c31d096-d600-4eec-d6a6-7d9f21442481"
      },
      "id": "aRCRHmysj20W",
      "execution_count": 293,
      "outputs": [
        {
          "output_type": "stream",
          "name": "stdout",
          "text": [
            "<class 'pandas.core.frame.DataFrame'>\n",
            "RangeIndex: 10044 entries, 0 to 10043\n",
            "Data columns (total 20 columns):\n",
            " #   Column                           Non-Null Count  Dtype\n",
            "---  ------                           --------------  -----\n",
            " 0   School_Year                      10044 non-null  int64\n",
            " 1   Busbreakdown_ID                  10044 non-null  int64\n",
            " 2   Run_Type                         10044 non-null  int64\n",
            " 3   Bus_No                           10044 non-null  int64\n",
            " 4   Route_Number                     10044 non-null  int64\n",
            " 5   Reason                           10044 non-null  int64\n",
            " 6   Schools_Serviced                 10044 non-null  int64\n",
            " 7   Occurred_On                      10044 non-null  int64\n",
            " 8   Created_On                       10044 non-null  int64\n",
            " 9   Boro                             10044 non-null  int64\n",
            " 10  Bus_Company_Name                 10044 non-null  int64\n",
            " 11  How_Long_Delayed                 10044 non-null  int64\n",
            " 12  Number_Of_Students_On_The_Bus    10044 non-null  int64\n",
            " 13  Has_Contractor_Notified_Schools  10044 non-null  int64\n",
            " 14  Has_Contractor_Notified_Parents  10044 non-null  int64\n",
            " 15  Have_You_Alerted_OPT             10044 non-null  int64\n",
            " 16  Informed_On                      10044 non-null  int64\n",
            " 17  Incident_Number                  10044 non-null  int64\n",
            " 18  Last_Updated_On                  10044 non-null  int64\n",
            " 19  School_Age_or_PreK               10044 non-null  int64\n",
            "dtypes: int64(20)\n",
            "memory usage: 1.5 MB\n"
          ]
        }
      ]
    },
    {
      "cell_type": "code",
      "source": [
        "X_train, X_test, y_train, y_test = train_test_split(X, y, test_size=0.2, random_state=42)"
      ],
      "metadata": {
        "id": "X0ho2OPwiPbu"
      },
      "id": "X0ho2OPwiPbu",
      "execution_count": 294,
      "outputs": []
    },
    {
      "cell_type": "markdown",
      "id": "7119b7d7",
      "metadata": {
        "id": "7119b7d7"
      },
      "source": [
        "## Building the ANN Model\n",
        "In this section, define the architecture of the ANN by specifying the number of layers, neurons, and activation functions."
      ]
    },
    {
      "cell_type": "code",
      "execution_count": 327,
      "id": "8532b3b9",
      "metadata": {
        "colab": {
          "base_uri": "https://localhost:8080/"
        },
        "id": "8532b3b9",
        "outputId": "4a9b41b3-d59d-4ea9-d295-80f76cbf1e37"
      },
      "outputs": [
        {
          "output_type": "stream",
          "name": "stderr",
          "text": [
            "/usr/local/lib/python3.10/dist-packages/keras/src/layers/core/dense.py:87: UserWarning: Do not pass an `input_shape`/`input_dim` argument to a layer. When using Sequential models, prefer using an `Input(shape)` object as the first layer in the model instead.\n",
            "  super().__init__(activity_regularizer=activity_regularizer, **kwargs)\n"
          ]
        }
      ],
      "source": [
        "model = Sequential()\n",
        "model.add(Dense(units=20, activation='relu', input_dim=X_train.shape[1]))\n",
        "model.add(Dense(units=32, activation='relu'))\n",
        "model.add(Dense(units=64, activation='relu'))\n",
        "model.add(Dropout(0.2))\n",
        "model.add(Dense(units=128, activation='relu'))\n",
        "model.add(Dense(units=256, activation='relu'))\n",
        "model.add(Dense(units=128, activation='relu'))\n",
        "model.add(Dense(units=64, activation='relu'))\n",
        "\n",
        "model.add(Dense(units=512, activation='relu'))\n",
        "model.add(Dense(units=1, activation='sigmoid'))"
      ]
    },
    {
      "cell_type": "markdown",
      "id": "ac5e52e1",
      "metadata": {
        "id": "ac5e52e1"
      },
      "source": [
        "## Compile the Model\n",
        "Compile the ANN model by defining the optimizer, loss function, and evaluation metrics."
      ]
    },
    {
      "cell_type": "code",
      "execution_count": 328,
      "id": "ab363be3",
      "metadata": {
        "id": "ab363be3"
      },
      "outputs": [],
      "source": [
        "model.compile(optimizer=Adam(learning_rate=0.001), loss='binary_crossentropy', metrics=['accuracy'])"
      ]
    },
    {
      "cell_type": "markdown",
      "id": "e9a72223",
      "metadata": {
        "id": "e9a72223"
      },
      "source": [
        "## Training the Model\n",
        "Train the ANN model using the training data."
      ]
    },
    {
      "cell_type": "code",
      "execution_count": 329,
      "id": "e43fedab",
      "metadata": {
        "id": "e43fedab"
      },
      "outputs": [],
      "source": [
        "early_stoping=tf.keras.callbacks.EarlyStopping(monitor='val_loss',patience=20,restore_best_weights=True)"
      ]
    },
    {
      "cell_type": "code",
      "source": [
        "history=model.fit(X_train,y_train,batch_size=512,epochs=150,validation_split=0.2,callbacks=early_stoping)"
      ],
      "metadata": {
        "colab": {
          "base_uri": "https://localhost:8080/"
        },
        "id": "VSYGbKAEiZYh",
        "outputId": "1df570d2-f4e4-4e57-8c09-9df5872a0cd0"
      },
      "id": "VSYGbKAEiZYh",
      "execution_count": 330,
      "outputs": [
        {
          "output_type": "stream",
          "name": "stdout",
          "text": [
            "Epoch 1/150\n",
            "\u001b[1m13/13\u001b[0m \u001b[32m━━━━━━━━━━━━━━━━━━━━\u001b[0m\u001b[37m\u001b[0m \u001b[1m3s\u001b[0m 35ms/step - accuracy: 0.4981 - loss: 2677.5181 - val_accuracy: 0.5034 - val_loss: 17.3273\n",
            "Epoch 2/150\n",
            "\u001b[1m13/13\u001b[0m \u001b[32m━━━━━━━━━━━━━━━━━━━━\u001b[0m\u001b[37m\u001b[0m \u001b[1m0s\u001b[0m 16ms/step - accuracy: 0.4966 - loss: 165.2040 - val_accuracy: 0.5034 - val_loss: 38.3218\n",
            "Epoch 3/150\n",
            "\u001b[1m13/13\u001b[0m \u001b[32m━━━━━━━━━━━━━━━━━━━━\u001b[0m\u001b[37m\u001b[0m \u001b[1m0s\u001b[0m 18ms/step - accuracy: 0.5006 - loss: 64.6443 - val_accuracy: 0.4891 - val_loss: 1.1267\n",
            "Epoch 4/150\n",
            "\u001b[1m13/13\u001b[0m \u001b[32m━━━━━━━━━━━━━━━━━━━━\u001b[0m\u001b[37m\u001b[0m \u001b[1m0s\u001b[0m 21ms/step - accuracy: 0.4995 - loss: 25.1183 - val_accuracy: 0.4966 - val_loss: 3.4398\n",
            "Epoch 5/150\n",
            "\u001b[1m13/13\u001b[0m \u001b[32m━━━━━━━━━━━━━━━━━━━━\u001b[0m\u001b[37m\u001b[0m \u001b[1m0s\u001b[0m 29ms/step - accuracy: 0.4924 - loss: 11.3803 - val_accuracy: 0.4966 - val_loss: 2.9301\n",
            "Epoch 6/150\n",
            "\u001b[1m13/13\u001b[0m \u001b[32m━━━━━━━━━━━━━━━━━━━━\u001b[0m\u001b[37m\u001b[0m \u001b[1m0s\u001b[0m 36ms/step - accuracy: 0.5058 - loss: 8.3974 - val_accuracy: 0.5034 - val_loss: 0.7532\n",
            "Epoch 7/150\n",
            "\u001b[1m13/13\u001b[0m \u001b[32m━━━━━━━━━━━━━━━━━━━━\u001b[0m\u001b[37m\u001b[0m \u001b[1m1s\u001b[0m 29ms/step - accuracy: 0.5010 - loss: 2.2177 - val_accuracy: 0.4966 - val_loss: 0.7654\n",
            "Epoch 8/150\n",
            "\u001b[1m13/13\u001b[0m \u001b[32m━━━━━━━━━━━━━━━━━━━━\u001b[0m\u001b[37m\u001b[0m \u001b[1m0s\u001b[0m 33ms/step - accuracy: 0.5115 - loss: 1.4123 - val_accuracy: 0.4966 - val_loss: 0.6932\n",
            "Epoch 9/150\n",
            "\u001b[1m13/13\u001b[0m \u001b[32m━━━━━━━━━━━━━━━━━━━━\u001b[0m\u001b[37m\u001b[0m \u001b[1m0s\u001b[0m 29ms/step - accuracy: 0.4970 - loss: 0.9652 - val_accuracy: 0.4966 - val_loss: 0.6933\n",
            "Epoch 10/150\n",
            "\u001b[1m13/13\u001b[0m \u001b[32m━━━━━━━━━━━━━━━━━━━━\u001b[0m\u001b[37m\u001b[0m \u001b[1m1s\u001b[0m 30ms/step - accuracy: 0.4988 - loss: 0.8773 - val_accuracy: 0.4966 - val_loss: 0.6933\n",
            "Epoch 11/150\n",
            "\u001b[1m13/13\u001b[0m \u001b[32m━━━━━━━━━━━━━━━━━━━━\u001b[0m\u001b[37m\u001b[0m \u001b[1m0s\u001b[0m 16ms/step - accuracy: 0.5028 - loss: 0.7908 - val_accuracy: 0.4966 - val_loss: 0.6934\n",
            "Epoch 12/150\n",
            "\u001b[1m13/13\u001b[0m \u001b[32m━━━━━━━━━━━━━━━━━━━━\u001b[0m\u001b[37m\u001b[0m \u001b[1m0s\u001b[0m 18ms/step - accuracy: 0.5006 - loss: 0.7655 - val_accuracy: 0.4966 - val_loss: 0.6933\n",
            "Epoch 13/150\n",
            "\u001b[1m13/13\u001b[0m \u001b[32m━━━━━━━━━━━━━━━━━━━━\u001b[0m\u001b[37m\u001b[0m \u001b[1m0s\u001b[0m 17ms/step - accuracy: 0.5109 - loss: 0.7153 - val_accuracy: 0.4966 - val_loss: 0.6933\n",
            "Epoch 14/150\n",
            "\u001b[1m13/13\u001b[0m \u001b[32m━━━━━━━━━━━━━━━━━━━━\u001b[0m\u001b[37m\u001b[0m \u001b[1m0s\u001b[0m 16ms/step - accuracy: 0.5036 - loss: 0.7518 - val_accuracy: 0.4966 - val_loss: 0.6933\n",
            "Epoch 15/150\n",
            "\u001b[1m13/13\u001b[0m \u001b[32m━━━━━━━━━━━━━━━━━━━━\u001b[0m\u001b[37m\u001b[0m \u001b[1m0s\u001b[0m 17ms/step - accuracy: 0.5009 - loss: 0.7555 - val_accuracy: 0.4966 - val_loss: 0.6933\n",
            "Epoch 16/150\n",
            "\u001b[1m13/13\u001b[0m \u001b[32m━━━━━━━━━━━━━━━━━━━━\u001b[0m\u001b[37m\u001b[0m \u001b[1m0s\u001b[0m 17ms/step - accuracy: 0.5012 - loss: 0.7564 - val_accuracy: 0.4966 - val_loss: 0.6933\n",
            "Epoch 17/150\n",
            "\u001b[1m13/13\u001b[0m \u001b[32m━━━━━━━━━━━━━━━━━━━━\u001b[0m\u001b[37m\u001b[0m \u001b[1m0s\u001b[0m 17ms/step - accuracy: 0.4973 - loss: 0.7315 - val_accuracy: 0.4966 - val_loss: 0.6932\n",
            "Epoch 18/150\n",
            "\u001b[1m13/13\u001b[0m \u001b[32m━━━━━━━━━━━━━━━━━━━━\u001b[0m\u001b[37m\u001b[0m \u001b[1m0s\u001b[0m 16ms/step - accuracy: 0.5032 - loss: 0.7200 - val_accuracy: 0.4966 - val_loss: 0.6933\n",
            "Epoch 19/150\n",
            "\u001b[1m13/13\u001b[0m \u001b[32m━━━━━━━━━━━━━━━━━━━━\u001b[0m\u001b[37m\u001b[0m \u001b[1m0s\u001b[0m 17ms/step - accuracy: 0.5038 - loss: 0.7322 - val_accuracy: 0.4966 - val_loss: 0.6933\n",
            "Epoch 20/150\n",
            "\u001b[1m13/13\u001b[0m \u001b[32m━━━━━━━━━━━━━━━━━━━━\u001b[0m\u001b[37m\u001b[0m \u001b[1m0s\u001b[0m 17ms/step - accuracy: 0.5082 - loss: 0.7054 - val_accuracy: 0.4966 - val_loss: 0.6933\n",
            "Epoch 21/150\n",
            "\u001b[1m13/13\u001b[0m \u001b[32m━━━━━━━━━━━━━━━━━━━━\u001b[0m\u001b[37m\u001b[0m \u001b[1m0s\u001b[0m 16ms/step - accuracy: 0.5189 - loss: 0.6979 - val_accuracy: 0.4966 - val_loss: 0.6933\n",
            "Epoch 22/150\n",
            "\u001b[1m13/13\u001b[0m \u001b[32m━━━━━━━━━━━━━━━━━━━━\u001b[0m\u001b[37m\u001b[0m \u001b[1m0s\u001b[0m 16ms/step - accuracy: 0.5028 - loss: 0.7139 - val_accuracy: 0.4966 - val_loss: 0.6933\n",
            "Epoch 23/150\n",
            "\u001b[1m13/13\u001b[0m \u001b[32m━━━━━━━━━━━━━━━━━━━━\u001b[0m\u001b[37m\u001b[0m \u001b[1m0s\u001b[0m 16ms/step - accuracy: 0.5046 - loss: 0.7139 - val_accuracy: 0.4966 - val_loss: 0.6933\n",
            "Epoch 24/150\n",
            "\u001b[1m13/13\u001b[0m \u001b[32m━━━━━━━━━━━━━━━━━━━━\u001b[0m\u001b[37m\u001b[0m \u001b[1m0s\u001b[0m 16ms/step - accuracy: 0.5028 - loss: 0.6984 - val_accuracy: 0.4966 - val_loss: 0.6932\n",
            "Epoch 25/150\n",
            "\u001b[1m13/13\u001b[0m \u001b[32m━━━━━━━━━━━━━━━━━━━━\u001b[0m\u001b[37m\u001b[0m \u001b[1m0s\u001b[0m 16ms/step - accuracy: 0.4953 - loss: 0.7091 - val_accuracy: 0.4966 - val_loss: 0.6933\n",
            "Epoch 26/150\n",
            "\u001b[1m13/13\u001b[0m \u001b[32m━━━━━━━━━━━━━━━━━━━━\u001b[0m\u001b[37m\u001b[0m \u001b[1m0s\u001b[0m 21ms/step - accuracy: 0.5032 - loss: 0.7285 - val_accuracy: 0.4966 - val_loss: 0.6933\n",
            "Epoch 27/150\n",
            "\u001b[1m13/13\u001b[0m \u001b[32m━━━━━━━━━━━━━━━━━━━━\u001b[0m\u001b[37m\u001b[0m \u001b[1m0s\u001b[0m 16ms/step - accuracy: 0.5076 - loss: 0.6953 - val_accuracy: 0.4966 - val_loss: 0.6933\n",
            "Epoch 28/150\n",
            "\u001b[1m13/13\u001b[0m \u001b[32m━━━━━━━━━━━━━━━━━━━━\u001b[0m\u001b[37m\u001b[0m \u001b[1m0s\u001b[0m 16ms/step - accuracy: 0.5158 - loss: 0.6983 - val_accuracy: 0.4966 - val_loss: 0.6933\n"
          ]
        }
      ]
    },
    {
      "cell_type": "markdown",
      "id": "20ce9661",
      "metadata": {
        "id": "20ce9661"
      },
      "source": [
        "## Evaluate the Model\n",
        "Evaluate the performance of the model on the test set."
      ]
    },
    {
      "cell_type": "code",
      "execution_count": 331,
      "id": "73167afc",
      "metadata": {
        "colab": {
          "base_uri": "https://localhost:8080/"
        },
        "id": "73167afc",
        "outputId": "136ca20a-e498-4d2e-9635-e9868046ee48"
      },
      "outputs": [
        {
          "output_type": "stream",
          "name": "stdout",
          "text": [
            "\u001b[1m63/63\u001b[0m \u001b[32m━━━━━━━━━━━━━━━━━━━━\u001b[0m\u001b[37m\u001b[0m \u001b[1m0s\u001b[0m 2ms/step - accuracy: 0.4728 - loss: 0.6936\n"
          ]
        },
        {
          "output_type": "execute_result",
          "data": {
            "text/plain": [
              "[0.6933757066726685, 0.4868093430995941]"
            ]
          },
          "metadata": {},
          "execution_count": 331
        }
      ],
      "source": [
        "model.evaluate(X_test,y_test)"
      ]
    },
    {
      "cell_type": "markdown",
      "id": "08e9bc87",
      "metadata": {
        "id": "08e9bc87"
      },
      "source": [
        "## Make Predictions\n",
        "Use the trained model to make predictions on new or unseen data."
      ]
    },
    {
      "cell_type": "code",
      "execution_count": 332,
      "id": "940fa394",
      "metadata": {
        "colab": {
          "base_uri": "https://localhost:8080/"
        },
        "id": "940fa394",
        "outputId": "f0e63c19-4600-41d5-fa6e-efa449a8418f"
      },
      "outputs": [
        {
          "output_type": "stream",
          "name": "stdout",
          "text": [
            "\u001b[1m63/63\u001b[0m \u001b[32m━━━━━━━━━━━━━━━━━━━━\u001b[0m\u001b[37m\u001b[0m \u001b[1m0s\u001b[0m 3ms/step\n"
          ]
        },
        {
          "output_type": "execute_result",
          "data": {
            "text/plain": [
              "array([[0.49621308],\n",
              "       [0.49621308],\n",
              "       [0.49621308],\n",
              "       ...,\n",
              "       [0.49621308],\n",
              "       [0.49621308],\n",
              "       [0.49621308]], dtype=float32)"
            ]
          },
          "metadata": {},
          "execution_count": 332
        }
      ],
      "source": [
        "model.predict(X_test)"
      ]
    },
    {
      "cell_type": "markdown",
      "id": "94942463",
      "metadata": {
        "id": "94942463"
      },
      "source": [
        "## Model Performance Visualization\n",
        "Visualize the performance metrics such as accuracy and loss over the epochs."
      ]
    },
    {
      "cell_type": "code",
      "execution_count": 333,
      "id": "b1955952",
      "metadata": {
        "colab": {
          "base_uri": "https://localhost:8080/",
          "height": 472
        },
        "id": "b1955952",
        "outputId": "aad55a05-8077-4412-84be-5da68dab494f"
      },
      "outputs": [
        {
          "output_type": "display_data",
          "data": {
            "text/plain": [
              "<Figure size 640x480 with 1 Axes>"
            ],
            "image/png": "[encoded data removed]"
          },
          "metadata": {}
        }
      ],
      "source": [
        "plt.plot(history.history['accuracy'])\n",
        "plt.plot(history.history['val_accuracy'])\n",
        "plt.title('Model accuracy')\n",
        "plt.ylabel('Accuracy')\n",
        "plt.xlabel('Epoch')\n",
        "plt.legend(['Train', 'Validation'], loc='upper left')\n",
        "plt.ylim([0, 1])\n",
        "plt.show()"
      ]
    },
    {
      "cell_type": "code",
      "source": [
        "\n",
        "y_pred = model.predict(X_test)\n",
        "y_pred = (y_pred > 0.5)\n",
        "print(confusion_matrix(y_test, y_pred))\n",
        "print(classification_report(y_test, y_pred))"
      ],
      "metadata": {
        "colab": {
          "base_uri": "https://localhost:8080/"
        },
        "id": "JUjkjhg3kzHs",
        "outputId": "0260e2d8-9061-419c-eb91-301c7f7e22fe"
      },
      "id": "JUjkjhg3kzHs",
      "execution_count": 334,
      "outputs": [
        {
          "output_type": "stream",
          "name": "stdout",
          "text": [
            "\u001b[1m63/63\u001b[0m \u001b[32m━━━━━━━━━━━━━━━━━━━━\u001b[0m\u001b[37m\u001b[0m \u001b[1m0s\u001b[0m 1ms/step\n",
            "[[ 978    0]\n",
            " [1031    0]]\n",
            "              precision    recall  f1-score   support\n",
            "\n",
            "           0       0.49      1.00      0.65       978\n",
            "           1       0.00      0.00      0.00      1031\n",
            "\n",
            "    accuracy                           0.49      2009\n",
            "   macro avg       0.24      0.50      0.33      2009\n",
            "weighted avg       0.24      0.49      0.32      2009\n",
            "\n"
          ]
        },
        {
          "output_type": "stream",
          "name": "stderr",
          "text": [
            "/usr/local/lib/python3.10/dist-packages/sklearn/metrics/_classification.py:1471: UndefinedMetricWarning: Precision and F-score are ill-defined and being set to 0.0 in labels with no predicted samples. Use `zero_division` parameter to control this behavior.\n",
            "  _warn_prf(average, modifier, msg_start, len(result))\n",
            "/usr/local/lib/python3.10/dist-packages/sklearn/metrics/_classification.py:1471: UndefinedMetricWarning: Precision and F-score are ill-defined and being set to 0.0 in labels with no predicted samples. Use `zero_division` parameter to control this behavior.\n",
            "  _warn_prf(average, modifier, msg_start, len(result))\n",
            "/usr/local/lib/python3.10/dist-packages/sklearn/metrics/_classification.py:1471: UndefinedMetricWarning: Precision and F-score are ill-defined and being set to 0.0 in labels with no predicted samples. Use `zero_division` parameter to control this behavior.\n",
            "  _warn_prf(average, modifier, msg_start, len(result))\n"
          ]
        }
      ]
    },
    {
      "cell_type": "markdown",
      "id": "1d32965f",
      "metadata": {
        "id": "1d32965f"
      },
      "source": [
        "## Save the Model\n",
        "Save the trained model for submission."
      ]
    },
    {
      "cell_type": "code",
      "execution_count": 325,
      "id": "a4e1f00e",
      "metadata": {
        "colab": {
          "base_uri": "https://localhost:8080/"
        },
        "id": "a4e1f00e",
        "outputId": "7a62fdd8-f756-4d9d-d16a-db17896b7bdb"
      },
      "outputs": [
        {
          "output_type": "stream",
          "name": "stderr",
          "text": [
            "WARNING:absl:You are saving your model as an HDF5 file via `model.save()` or `keras.saving.save_model(model)`. This file format is considered legacy. We recommend using instead the native Keras format, e.g. `model.save('my_model.keras')` or `keras.saving.save_model(model, 'my_model.keras')`. \n"
          ]
        }
      ],
      "source": [
        "model.save('ann_model.h5')"
      ]
    },
    {
      "cell_type": "markdown",
      "id": "9ebe9b8d",
      "metadata": {
        "id": "9ebe9b8d"
      },
      "source": [
        "## Project Questions:\n",
        "\n",
        "1. **Data Preprocessing**: Explain why you chose your specific data preprocessing techniques (e.g., normalization, encoding). How did these techniques help prepare the data for training the model?\n",
        "2. **Model Architecture**: Describe the reasoning behind your model’s architecture (e.g., the number of layers, type of layers, number of neurons, and activation functions). Why did you believe this architecture was appropriate for the problem at hand?\n",
        "3. **Training Process**: Discuss why you chose your batch size, number of epochs, and optimizer. How did these choices affect the training process? Did you experiment with different values, and what were the outcomes?\n",
        "4. **Loss Function and Metrics**: Why did you choose the specific loss function and evaluation metrics? How do they align with the objective of the task (e.g., regression vs classification)?\n",
        "5. **Regularization Techniques**: If you used regularization techniques such as dropout or weight decay, explain why you implemented them and how they influenced the model's performance.\n",
        "6. **Model Evaluation**: Justify your approach to evaluating the model. Why did you choose the specific performance metrics, and how do they reflect the model's success in solving the task?\n",
        "7. **Model Tuning (If Done)**: Describe any tuning you performed (e.g., hyperparameter tuning) and why you felt it was necessary. How did these adjustments improve model performance?\n",
        "8. **Overfitting and Underfitting**: Analyze whether the model encountered any overfitting or underfitting during training. What strategies could you implement to mitigate these issues?"
      ]
    },
    {
      "cell_type": "markdown",
      "id": "5f524a61",
      "metadata": {
        "id": "5f524a61"
      },
      "source": [
        "### Answer Here:\n",
        "\n",
        "\n",
        "\n",
        "1.   i used label encoder as one hot encoder will make more than 2000 clolumns makeing the data set to big to deal with\n",
        "\n",
        "2.   firstly i used an input layer with the number of inputs as the units and then i used 7 hiden layers and one output layer with one uints and the actvion sigmoid\n",
        "\n",
        "3.   i started a try and error and i found out that this compnition give me the best accurcy (even if it bad right now)\n",
        "\n",
        "4.   i used relu as it give me what i need form the data and it does not return negtuive values\n",
        "5.  i used dropout to prevernt over fitting\n",
        "\n",
        "\n",
        "6.   i used calssfiction report as it give me a summery of the model preformence\n",
        "\n",
        "\n",
        "8.   the model encoter under fitting and i tried resloveing that by makeing the model more complex but that did not work\n",
        "\n"
      ]
    },
    {
      "cell_type": "code",
      "source": [],
      "metadata": {
        "id": "7j9_YF0hq9b3"
      },
      "id": "7j9_YF0hq9b3",
      "execution_count": null,
      "outputs": []
    }
  ],
  "metadata": {
    "language_info": {
      "name": "python"
    },
    "colab": {
      "provenance": []
    },
    "kernelspec": {
      "name": "python3",
      "display_name": "Python 3"
    }
  },
  "nbformat": 4,
  "nbformat_minor": 5
}